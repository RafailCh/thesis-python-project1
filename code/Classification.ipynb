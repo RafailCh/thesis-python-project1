{
 "cells": [
  {
   "cell_type": "code",
   "execution_count": null,
   "id": "2b150870-670d-4b72-a788-587e392dbf08",
   "metadata": {
    "id": "2b150870-670d-4b72-a788-587e392dbf08",
    "tags": []
   },
   "outputs": [],
   "source": [
    " import pandas as pd\n",
    "\n",
    "df = pd.read_csv('hotel_bookings.csv')"
   ]
  },
  {
   "cell_type": "code",
   "execution_count": null,
   "id": "KoOwKTM5ELEP",
   "metadata": {
    "id": "KoOwKTM5ELEP"
   },
   "outputs": [],
   "source": []
  },
  {
   "cell_type": "code",
   "execution_count": null,
   "id": "JZQVgpkwELWh",
   "metadata": {
    "id": "JZQVgpkwELWh"
   },
   "outputs": [],
   "source": []
  },
  {
   "cell_type": "code",
   "execution_count": null,
   "id": "KAW_uuutELpP",
   "metadata": {
    "id": "KAW_uuutELpP"
   },
   "outputs": [],
   "source": []
  },
  {
   "cell_type": "code",
   "execution_count": null,
   "id": "45f6fa7e-9e72-4dfd-a480-74284a81d979",
   "metadata": {
    "id": "45f6fa7e-9e72-4dfd-a480-74284a81d979",
    "outputId": "84f8dd61-45c1-45da-a83f-05a1f500c2ff",
    "tags": []
   },
   "outputs": [
    {
     "data": {
      "text/plain": [
       "(119390, 32)"
      ]
     },
     "execution_count": 2,
     "metadata": {},
     "output_type": "execute_result"
    }
   ],
   "source": [
    "df.shape"
   ]
  },
  {
   "cell_type": "code",
   "execution_count": null,
   "id": "78f0b293-8d0f-4312-b8db-c91498c8b0d8",
   "metadata": {
    "id": "78f0b293-8d0f-4312-b8db-c91498c8b0d8",
    "outputId": "c3d6d65c-4e0b-4040-fd4b-297908ca727b",
    "tags": []
   },
   "outputs": [
    {
     "data": {
      "text/plain": [
       "hotel                              object\n",
       "is_canceled                         int64\n",
       "lead_time                           int64\n",
       "arrival_date_year                   int64\n",
       "arrival_date_month                 object\n",
       "arrival_date_week_number            int64\n",
       "arrival_date_day_of_month           int64\n",
       "stays_in_weekend_nights             int64\n",
       "stays_in_week_nights                int64\n",
       "adults                              int64\n",
       "children                          float64\n",
       "babies                              int64\n",
       "meal                               object\n",
       "country                            object\n",
       "market_segment                     object\n",
       "distribution_channel               object\n",
       "is_repeated_guest                   int64\n",
       "previous_cancellations              int64\n",
       "previous_bookings_not_canceled      int64\n",
       "reserved_room_type                 object\n",
       "assigned_room_type                 object\n",
       "booking_changes                     int64\n",
       "deposit_type                       object\n",
       "agent                             float64\n",
       "company                           float64\n",
       "days_in_waiting_list                int64\n",
       "customer_type                      object\n",
       "adr                               float64\n",
       "required_car_parking_spaces         int64\n",
       "total_of_special_requests           int64\n",
       "reservation_status                 object\n",
       "reservation_status_date            object\n",
       "dtype: object"
      ]
     },
     "execution_count": 3,
     "metadata": {},
     "output_type": "execute_result"
    }
   ],
   "source": [
    "df.dtypes"
   ]
  },
  {
   "cell_type": "code",
   "execution_count": null,
   "id": "ab8e77ce-e33a-479a-b81f-f74836f95aaa",
   "metadata": {
    "id": "ab8e77ce-e33a-479a-b81f-f74836f95aaa",
    "outputId": "12ac86ca-988e-46d4-907e-3fb08ab628de",
    "tags": []
   },
   "outputs": [
    {
     "data": {
      "text/plain": [
       "hotel                                  0\n",
       "is_canceled                            0\n",
       "lead_time                              0\n",
       "arrival_date_year                      0\n",
       "arrival_date_month                     0\n",
       "arrival_date_week_number               0\n",
       "arrival_date_day_of_month              0\n",
       "stays_in_weekend_nights                0\n",
       "stays_in_week_nights                   0\n",
       "adults                                 0\n",
       "children                               4\n",
       "babies                                 0\n",
       "meal                                   0\n",
       "country                              488\n",
       "market_segment                         0\n",
       "distribution_channel                   0\n",
       "is_repeated_guest                      0\n",
       "previous_cancellations                 0\n",
       "previous_bookings_not_canceled         0\n",
       "reserved_room_type                     0\n",
       "assigned_room_type                     0\n",
       "booking_changes                        0\n",
       "deposit_type                           0\n",
       "agent                              16340\n",
       "company                           112593\n",
       "days_in_waiting_list                   0\n",
       "customer_type                          0\n",
       "adr                                    0\n",
       "required_car_parking_spaces            0\n",
       "total_of_special_requests              0\n",
       "reservation_status                     0\n",
       "reservation_status_date                0\n",
       "dtype: int64"
      ]
     },
     "execution_count": 4,
     "metadata": {},
     "output_type": "execute_result"
    }
   ],
   "source": [
    "df.isnull().sum()"
   ]
  },
  {
   "cell_type": "code",
   "execution_count": null,
   "id": "6cea21ee-bb73-415e-8b87-9061129e8b45",
   "metadata": {
    "id": "6cea21ee-bb73-415e-8b87-9061129e8b45",
    "outputId": "50aba1bd-434e-4377-c877-16c481cbf449",
    "tags": []
   },
   "outputs": [
    {
     "data": {
      "text/plain": [
       "hotel                             0\n",
       "is_canceled                       0\n",
       "lead_time                         0\n",
       "arrival_date_year                 0\n",
       "arrival_date_month                0\n",
       "arrival_date_day_of_month         0\n",
       "stays_in_weekend_nights           0\n",
       "stays_in_week_nights              0\n",
       "adults                            0\n",
       "children                          0\n",
       "babies                            0\n",
       "meal                              0\n",
       "country                           0\n",
       "market_segment                    0\n",
       "distribution_channel              0\n",
       "is_repeated_guest                 0\n",
       "previous_cancellations            0\n",
       "previous_bookings_not_canceled    0\n",
       "reserved_room_type                0\n",
       "assigned_room_type                0\n",
       "booking_changes                   0\n",
       "deposit_type                      0\n",
       "days_in_waiting_list              0\n",
       "customer_type                     0\n",
       "adr                               0\n",
       "required_car_parking_spaces       0\n",
       "total_of_special_requests         0\n",
       "reservation_status                0\n",
       "reservation_status_date           0\n",
       "dtype: int64"
      ]
     },
     "execution_count": 5,
     "metadata": {},
     "output_type": "execute_result"
    }
   ],
   "source": [
    "df.drop(['agent', 'company', 'arrival_date_week_number'], axis=1, inplace=True)\n",
    "df.children.fillna(value=0.0, inplace=True)\n",
    "df.country.fillna(value='PRT', inplace=True)\n",
    "\n",
    "df.isnull().sum()"
   ]
  },
  {
   "cell_type": "code",
   "execution_count": null,
   "id": "d4c47158-f9f1-4ee1-b92a-88d8635f5417",
   "metadata": {
    "id": "d4c47158-f9f1-4ee1-b92a-88d8635f5417",
    "outputId": "9237310e-971b-4b64-a068-7c403275d01f"
   },
   "outputs": [
    {
     "data": {
      "text/html": [
       "<div>\n",
       "<style scoped>\n",
       "    .dataframe tbody tr th:only-of-type {\n",
       "        vertical-align: middle;\n",
       "    }\n",
       "\n",
       "    .dataframe tbody tr th {\n",
       "        vertical-align: top;\n",
       "    }\n",
       "\n",
       "    .dataframe thead th {\n",
       "        text-align: right;\n",
       "    }\n",
       "</style>\n",
       "<table border=\"1\" class=\"dataframe\">\n",
       "  <thead>\n",
       "    <tr style=\"text-align: right;\">\n",
       "      <th></th>\n",
       "      <th>hotel</th>\n",
       "      <th>is_canceled</th>\n",
       "      <th>lead_time</th>\n",
       "      <th>arrival_date_year</th>\n",
       "      <th>arrival_date_month</th>\n",
       "      <th>arrival_date_day_of_month</th>\n",
       "      <th>stays_in_weekend_nights</th>\n",
       "      <th>stays_in_week_nights</th>\n",
       "      <th>adults</th>\n",
       "      <th>children</th>\n",
       "      <th>...</th>\n",
       "      <th>assigned_room_type</th>\n",
       "      <th>booking_changes</th>\n",
       "      <th>deposit_type</th>\n",
       "      <th>days_in_waiting_list</th>\n",
       "      <th>customer_type</th>\n",
       "      <th>adr</th>\n",
       "      <th>required_car_parking_spaces</th>\n",
       "      <th>total_of_special_requests</th>\n",
       "      <th>reservation_status</th>\n",
       "      <th>reservation_status_date</th>\n",
       "    </tr>\n",
       "  </thead>\n",
       "  <tbody>\n",
       "    <tr>\n",
       "      <th>4</th>\n",
       "      <td>Resort Hotel</td>\n",
       "      <td>0</td>\n",
       "      <td>14</td>\n",
       "      <td>2015</td>\n",
       "      <td>July</td>\n",
       "      <td>1</td>\n",
       "      <td>0</td>\n",
       "      <td>2</td>\n",
       "      <td>2</td>\n",
       "      <td>0.0</td>\n",
       "      <td>...</td>\n",
       "      <td>A</td>\n",
       "      <td>0</td>\n",
       "      <td>No Deposit</td>\n",
       "      <td>0</td>\n",
       "      <td>Transient</td>\n",
       "      <td>98.00</td>\n",
       "      <td>0</td>\n",
       "      <td>1</td>\n",
       "      <td>Check-Out</td>\n",
       "      <td>2015-07-03</td>\n",
       "    </tr>\n",
       "    <tr>\n",
       "      <th>5</th>\n",
       "      <td>Resort Hotel</td>\n",
       "      <td>0</td>\n",
       "      <td>14</td>\n",
       "      <td>2015</td>\n",
       "      <td>July</td>\n",
       "      <td>1</td>\n",
       "      <td>0</td>\n",
       "      <td>2</td>\n",
       "      <td>2</td>\n",
       "      <td>0.0</td>\n",
       "      <td>...</td>\n",
       "      <td>A</td>\n",
       "      <td>0</td>\n",
       "      <td>No Deposit</td>\n",
       "      <td>0</td>\n",
       "      <td>Transient</td>\n",
       "      <td>98.00</td>\n",
       "      <td>0</td>\n",
       "      <td>1</td>\n",
       "      <td>Check-Out</td>\n",
       "      <td>2015-07-03</td>\n",
       "    </tr>\n",
       "    <tr>\n",
       "      <th>21</th>\n",
       "      <td>Resort Hotel</td>\n",
       "      <td>0</td>\n",
       "      <td>72</td>\n",
       "      <td>2015</td>\n",
       "      <td>July</td>\n",
       "      <td>1</td>\n",
       "      <td>2</td>\n",
       "      <td>4</td>\n",
       "      <td>2</td>\n",
       "      <td>0.0</td>\n",
       "      <td>...</td>\n",
       "      <td>A</td>\n",
       "      <td>1</td>\n",
       "      <td>No Deposit</td>\n",
       "      <td>0</td>\n",
       "      <td>Transient</td>\n",
       "      <td>84.67</td>\n",
       "      <td>0</td>\n",
       "      <td>1</td>\n",
       "      <td>Check-Out</td>\n",
       "      <td>2015-07-07</td>\n",
       "    </tr>\n",
       "    <tr>\n",
       "      <th>22</th>\n",
       "      <td>Resort Hotel</td>\n",
       "      <td>0</td>\n",
       "      <td>72</td>\n",
       "      <td>2015</td>\n",
       "      <td>July</td>\n",
       "      <td>1</td>\n",
       "      <td>2</td>\n",
       "      <td>4</td>\n",
       "      <td>2</td>\n",
       "      <td>0.0</td>\n",
       "      <td>...</td>\n",
       "      <td>A</td>\n",
       "      <td>1</td>\n",
       "      <td>No Deposit</td>\n",
       "      <td>0</td>\n",
       "      <td>Transient</td>\n",
       "      <td>84.67</td>\n",
       "      <td>0</td>\n",
       "      <td>1</td>\n",
       "      <td>Check-Out</td>\n",
       "      <td>2015-07-07</td>\n",
       "    </tr>\n",
       "    <tr>\n",
       "      <th>39</th>\n",
       "      <td>Resort Hotel</td>\n",
       "      <td>0</td>\n",
       "      <td>70</td>\n",
       "      <td>2015</td>\n",
       "      <td>July</td>\n",
       "      <td>2</td>\n",
       "      <td>2</td>\n",
       "      <td>3</td>\n",
       "      <td>2</td>\n",
       "      <td>0.0</td>\n",
       "      <td>...</td>\n",
       "      <td>E</td>\n",
       "      <td>0</td>\n",
       "      <td>No Deposit</td>\n",
       "      <td>0</td>\n",
       "      <td>Transient</td>\n",
       "      <td>137.00</td>\n",
       "      <td>0</td>\n",
       "      <td>1</td>\n",
       "      <td>Check-Out</td>\n",
       "      <td>2015-07-07</td>\n",
       "    </tr>\n",
       "    <tr>\n",
       "      <th>...</th>\n",
       "      <td>...</td>\n",
       "      <td>...</td>\n",
       "      <td>...</td>\n",
       "      <td>...</td>\n",
       "      <td>...</td>\n",
       "      <td>...</td>\n",
       "      <td>...</td>\n",
       "      <td>...</td>\n",
       "      <td>...</td>\n",
       "      <td>...</td>\n",
       "      <td>...</td>\n",
       "      <td>...</td>\n",
       "      <td>...</td>\n",
       "      <td>...</td>\n",
       "      <td>...</td>\n",
       "      <td>...</td>\n",
       "      <td>...</td>\n",
       "      <td>...</td>\n",
       "      <td>...</td>\n",
       "      <td>...</td>\n",
       "      <td>...</td>\n",
       "    </tr>\n",
       "    <tr>\n",
       "      <th>119352</th>\n",
       "      <td>City Hotel</td>\n",
       "      <td>0</td>\n",
       "      <td>63</td>\n",
       "      <td>2017</td>\n",
       "      <td>August</td>\n",
       "      <td>31</td>\n",
       "      <td>0</td>\n",
       "      <td>3</td>\n",
       "      <td>3</td>\n",
       "      <td>0.0</td>\n",
       "      <td>...</td>\n",
       "      <td>D</td>\n",
       "      <td>0</td>\n",
       "      <td>No Deposit</td>\n",
       "      <td>0</td>\n",
       "      <td>Transient-Party</td>\n",
       "      <td>195.33</td>\n",
       "      <td>0</td>\n",
       "      <td>2</td>\n",
       "      <td>Check-Out</td>\n",
       "      <td>2017-09-03</td>\n",
       "    </tr>\n",
       "    <tr>\n",
       "      <th>119353</th>\n",
       "      <td>City Hotel</td>\n",
       "      <td>0</td>\n",
       "      <td>63</td>\n",
       "      <td>2017</td>\n",
       "      <td>August</td>\n",
       "      <td>31</td>\n",
       "      <td>0</td>\n",
       "      <td>3</td>\n",
       "      <td>3</td>\n",
       "      <td>0.0</td>\n",
       "      <td>...</td>\n",
       "      <td>D</td>\n",
       "      <td>0</td>\n",
       "      <td>No Deposit</td>\n",
       "      <td>0</td>\n",
       "      <td>Transient-Party</td>\n",
       "      <td>195.33</td>\n",
       "      <td>0</td>\n",
       "      <td>2</td>\n",
       "      <td>Check-Out</td>\n",
       "      <td>2017-09-03</td>\n",
       "    </tr>\n",
       "    <tr>\n",
       "      <th>119354</th>\n",
       "      <td>City Hotel</td>\n",
       "      <td>0</td>\n",
       "      <td>63</td>\n",
       "      <td>2017</td>\n",
       "      <td>August</td>\n",
       "      <td>31</td>\n",
       "      <td>0</td>\n",
       "      <td>3</td>\n",
       "      <td>3</td>\n",
       "      <td>0.0</td>\n",
       "      <td>...</td>\n",
       "      <td>D</td>\n",
       "      <td>0</td>\n",
       "      <td>No Deposit</td>\n",
       "      <td>0</td>\n",
       "      <td>Transient-Party</td>\n",
       "      <td>195.33</td>\n",
       "      <td>0</td>\n",
       "      <td>2</td>\n",
       "      <td>Check-Out</td>\n",
       "      <td>2017-09-03</td>\n",
       "    </tr>\n",
       "    <tr>\n",
       "      <th>119372</th>\n",
       "      <td>City Hotel</td>\n",
       "      <td>0</td>\n",
       "      <td>175</td>\n",
       "      <td>2017</td>\n",
       "      <td>August</td>\n",
       "      <td>31</td>\n",
       "      <td>1</td>\n",
       "      <td>3</td>\n",
       "      <td>1</td>\n",
       "      <td>0.0</td>\n",
       "      <td>...</td>\n",
       "      <td>A</td>\n",
       "      <td>0</td>\n",
       "      <td>No Deposit</td>\n",
       "      <td>0</td>\n",
       "      <td>Transient</td>\n",
       "      <td>82.35</td>\n",
       "      <td>0</td>\n",
       "      <td>1</td>\n",
       "      <td>Check-Out</td>\n",
       "      <td>2017-09-04</td>\n",
       "    </tr>\n",
       "    <tr>\n",
       "      <th>119373</th>\n",
       "      <td>City Hotel</td>\n",
       "      <td>0</td>\n",
       "      <td>175</td>\n",
       "      <td>2017</td>\n",
       "      <td>August</td>\n",
       "      <td>31</td>\n",
       "      <td>1</td>\n",
       "      <td>3</td>\n",
       "      <td>1</td>\n",
       "      <td>0.0</td>\n",
       "      <td>...</td>\n",
       "      <td>A</td>\n",
       "      <td>0</td>\n",
       "      <td>No Deposit</td>\n",
       "      <td>0</td>\n",
       "      <td>Transient</td>\n",
       "      <td>82.35</td>\n",
       "      <td>0</td>\n",
       "      <td>1</td>\n",
       "      <td>Check-Out</td>\n",
       "      <td>2017-09-04</td>\n",
       "    </tr>\n",
       "  </tbody>\n",
       "</table>\n",
       "<p>40241 rows × 29 columns</p>\n",
       "</div>"
      ],
      "text/plain": [
       "               hotel  is_canceled  lead_time  arrival_date_year  \\\n",
       "4       Resort Hotel            0         14               2015   \n",
       "5       Resort Hotel            0         14               2015   \n",
       "21      Resort Hotel            0         72               2015   \n",
       "22      Resort Hotel            0         72               2015   \n",
       "39      Resort Hotel            0         70               2015   \n",
       "...              ...          ...        ...                ...   \n",
       "119352    City Hotel            0         63               2017   \n",
       "119353    City Hotel            0         63               2017   \n",
       "119354    City Hotel            0         63               2017   \n",
       "119372    City Hotel            0        175               2017   \n",
       "119373    City Hotel            0        175               2017   \n",
       "\n",
       "       arrival_date_month  arrival_date_day_of_month  stays_in_weekend_nights  \\\n",
       "4                    July                          1                        0   \n",
       "5                    July                          1                        0   \n",
       "21                   July                          1                        2   \n",
       "22                   July                          1                        2   \n",
       "39                   July                          2                        2   \n",
       "...                   ...                        ...                      ...   \n",
       "119352             August                         31                        0   \n",
       "119353             August                         31                        0   \n",
       "119354             August                         31                        0   \n",
       "119372             August                         31                        1   \n",
       "119373             August                         31                        1   \n",
       "\n",
       "        stays_in_week_nights  adults  children  ...  assigned_room_type  \\\n",
       "4                          2       2       0.0  ...                   A   \n",
       "5                          2       2       0.0  ...                   A   \n",
       "21                         4       2       0.0  ...                   A   \n",
       "22                         4       2       0.0  ...                   A   \n",
       "39                         3       2       0.0  ...                   E   \n",
       "...                      ...     ...       ...  ...                 ...   \n",
       "119352                     3       3       0.0  ...                   D   \n",
       "119353                     3       3       0.0  ...                   D   \n",
       "119354                     3       3       0.0  ...                   D   \n",
       "119372                     3       1       0.0  ...                   A   \n",
       "119373                     3       1       0.0  ...                   A   \n",
       "\n",
       "       booking_changes deposit_type days_in_waiting_list    customer_type  \\\n",
       "4                    0   No Deposit                    0        Transient   \n",
       "5                    0   No Deposit                    0        Transient   \n",
       "21                   1   No Deposit                    0        Transient   \n",
       "22                   1   No Deposit                    0        Transient   \n",
       "39                   0   No Deposit                    0        Transient   \n",
       "...                ...          ...                  ...              ...   \n",
       "119352               0   No Deposit                    0  Transient-Party   \n",
       "119353               0   No Deposit                    0  Transient-Party   \n",
       "119354               0   No Deposit                    0  Transient-Party   \n",
       "119372               0   No Deposit                    0        Transient   \n",
       "119373               0   No Deposit                    0        Transient   \n",
       "\n",
       "           adr  required_car_parking_spaces  total_of_special_requests  \\\n",
       "4        98.00                            0                          1   \n",
       "5        98.00                            0                          1   \n",
       "21       84.67                            0                          1   \n",
       "22       84.67                            0                          1   \n",
       "39      137.00                            0                          1   \n",
       "...        ...                          ...                        ...   \n",
       "119352  195.33                            0                          2   \n",
       "119353  195.33                            0                          2   \n",
       "119354  195.33                            0                          2   \n",
       "119372   82.35                            0                          1   \n",
       "119373   82.35                            0                          1   \n",
       "\n",
       "       reservation_status reservation_status_date  \n",
       "4               Check-Out              2015-07-03  \n",
       "5               Check-Out              2015-07-03  \n",
       "21              Check-Out              2015-07-07  \n",
       "22              Check-Out              2015-07-07  \n",
       "39              Check-Out              2015-07-07  \n",
       "...                   ...                     ...  \n",
       "119352          Check-Out              2017-09-03  \n",
       "119353          Check-Out              2017-09-03  \n",
       "119354          Check-Out              2017-09-03  \n",
       "119372          Check-Out              2017-09-04  \n",
       "119373          Check-Out              2017-09-04  \n",
       "\n",
       "[40241 rows x 29 columns]"
      ]
     },
     "execution_count": 6,
     "metadata": {},
     "output_type": "execute_result"
    }
   ],
   "source": [
    "df[df.duplicated(keep=False)]"
   ]
  },
  {
   "cell_type": "code",
   "execution_count": null,
   "id": "e4145bd5-5046-4f76-bd7f-725b882c1213",
   "metadata": {
    "id": "e4145bd5-5046-4f76-bd7f-725b882c1213",
    "outputId": "8b99cbd0-00af-4dab-daa1-873ef3ecaec9"
   },
   "outputs": [
    {
     "data": {
      "text/plain": [
       "(87351, 29)"
      ]
     },
     "execution_count": 7,
     "metadata": {},
     "output_type": "execute_result"
    }
   ],
   "source": [
    "df.drop_duplicates(inplace=True)\n",
    "df.shape"
   ]
  },
  {
   "cell_type": "markdown",
   "id": "f87c28cc-1ac2-441f-99dd-4dd15665d300",
   "metadata": {
    "id": "f87c28cc-1ac2-441f-99dd-4dd15665d300",
    "tags": []
   },
   "source": [
    "<h2>Preprossesing</h2>"
   ]
  },
  {
   "cell_type": "code",
   "execution_count": null,
   "id": "167eb377-2357-4c63-949f-8a92292649dc",
   "metadata": {
    "id": "167eb377-2357-4c63-949f-8a92292649dc",
    "outputId": "584e3393-3ecb-460f-fee5-49313b4d2fce",
    "tags": []
   },
   "outputs": [
    {
     "data": {
      "text/plain": [
       "['is_canceled',\n",
       " 'lead_time',\n",
       " 'arrival_date_year',\n",
       " 'arrival_date_day_of_month',\n",
       " 'stays_in_weekend_nights',\n",
       " 'stays_in_week_nights',\n",
       " 'adults',\n",
       " 'children',\n",
       " 'babies',\n",
       " 'is_repeated_guest',\n",
       " 'previous_cancellations',\n",
       " 'previous_bookings_not_canceled',\n",
       " 'booking_changes',\n",
       " 'days_in_waiting_list',\n",
       " 'adr',\n",
       " 'required_car_parking_spaces',\n",
       " 'total_of_special_requests']"
      ]
     },
     "execution_count": 9,
     "metadata": {},
     "output_type": "execute_result"
    }
   ],
   "source": [
    "numerical = [var for var in df.columns if df[var].dtypes!= 'object']\n",
    "numerical"
   ]
  },
  {
   "cell_type": "code",
   "execution_count": null,
   "id": "e0dcdc02-ad99-415c-8d25-ae134e93dd8e",
   "metadata": {
    "id": "e0dcdc02-ad99-415c-8d25-ae134e93dd8e",
    "tags": []
   },
   "outputs": [],
   "source": [
    "numerical = ['lead_time',\n",
    " 'stays_in_weekend_nights',\n",
    " 'stays_in_week_nights',\n",
    " 'adults',\n",
    " 'previous_cancellations',\n",
    " 'previous_bookings_not_canceled',\n",
    " 'booking_changes',\n",
    " 'days_in_waiting_list',\n",
    " 'adr',\n",
    " 'required_car_parking_spaces',\n",
    " 'total_of_special_requests',\n",
    " 'babies',\n",
    " 'children'\n",
    "]"
   ]
  },
  {
   "cell_type": "code",
   "execution_count": null,
   "id": "c203f5de-581d-4aa8-867a-de942fdb4226",
   "metadata": {
    "id": "c203f5de-581d-4aa8-867a-de942fdb4226",
    "outputId": "a1968ef9-68d9-4368-cd8c-428a52bc066e",
    "tags": []
   },
   "outputs": [
    {
     "name": "stdout",
     "output_type": "stream",
     "text": [
      "lead_time outliers are values < -331.0 or > 467.0\n",
      "stays_in_weekend_nights outliers are values < -6.0 or > 8.0\n",
      "stays_in_week_nights outliers are values < -8.0 or > 13.0\n",
      "adults outliers are values < 2.0 or > 2.0\n",
      "previous_cancellations outliers are values < 0.0 or > 0.0\n",
      "previous_bookings_not_canceled outliers are values < 0.0 or > 0.0\n",
      "booking_changes outliers are values < 0.0 or > 0.0\n",
      "days_in_waiting_list outliers are values < 0.0 or > 0.0\n",
      "adr outliers are values < -114.0 or > 320.0\n",
      "required_car_parking_spaces outliers are values < 0.0 or > 0.0\n",
      "total_of_special_requests outliers are values < -3.0 or > 4.0\n",
      "babies outliers are values < 0.0 or > 0.0\n",
      "children outliers are values < 0.0 or > 0.0\n"
     ]
    }
   ],
   "source": [
    "for j in numerical:\n",
    "    IQR = df[j].quantile(0.75) - df[j].quantile(0.25)\n",
    "    Lower_fence = df[j].quantile(0.25) - (IQR * 3)\n",
    "    Upper_fence = df[j].quantile(0.75) + (IQR * 3)\n",
    "    print(j + ' outliers are values < {lowerboundary} or > {upperboundary}'.format(lowerboundary=Lower_fence, upperboundary=Upper_fence))"
   ]
  },
  {
   "cell_type": "code",
   "execution_count": null,
   "id": "6f1db90f-aad4-4c62-b73b-8ccc2e5ebac7",
   "metadata": {
    "id": "6f1db90f-aad4-4c62-b73b-8ccc2e5ebac7",
    "outputId": "c104da1c-1987-4dee-e133-e55d9cb8efa8",
    "tags": []
   },
   "outputs": [
    {
     "name": "stdout",
     "output_type": "stream",
     "text": [
      "the min and max values of lead_time are 0 and 737\n",
      "the min and max values of stays_in_weekend_nights are 0 and 19\n",
      "the min and max values of stays_in_week_nights are 0 and 50\n",
      "the min and max values of adults are 0 and 55\n",
      "the min and max values of previous_cancellations are 0 and 26\n",
      "the min and max values of previous_bookings_not_canceled are 0 and 72\n",
      "the min and max values of booking_changes are 0 and 21\n",
      "the min and max values of days_in_waiting_list are 0 and 391\n",
      "the min and max values of adr are -6.38 and 5400.0\n",
      "the min and max values of required_car_parking_spaces are 0 and 8\n",
      "the min and max values of total_of_special_requests are 0 and 5\n",
      "the min and max values of babies are 0 and 10\n",
      "the min and max values of children are 0.0 and 10.0\n"
     ]
    }
   ],
   "source": [
    "for k in numerical:\n",
    "    print(\"the min and max values of \" + k + \" are {} and {}\".format(df[k].min(), df[k].max()))"
   ]
  },
  {
   "cell_type": "code",
   "execution_count": null,
   "id": "b2fabd4d-b93f-49e5-a590-a9fbc71ecb16",
   "metadata": {
    "id": "b2fabd4d-b93f-49e5-a590-a9fbc71ecb16",
    "tags": []
   },
   "outputs": [],
   "source": [
    "import numpy as np\n",
    "\n",
    "def max_value(df, variable, top):\n",
    "    return np.where(df[variable]>top, top, df[variable])\n",
    "df['lead_time'] = max_value(df,'lead_time',737)\n",
    "df['stays_in_weekend_nights'] = max_value(df,'stays_in_weekend_nights',19)\n",
    "df['stays_in_week_nights'] = max_value(df,'stays_in_week_nights',50)\n",
    "df['adults'] = max_value(df,'adults',55)\n",
    "df['previous_cancellations'] = max_value(df,'previous_cancellations',26)\n",
    "df['previous_bookings_not_canceled'] = max_value(df,'previous_bookings_not_canceled',72)\n",
    "df['booking_changes'] = max_value(df,'booking_changes',21)\n",
    "df['days_in_waiting_list'] = max_value(df,'days_in_waiting_list',391)\n",
    "df['adr'] = max_value(df,'adr',5400.0)\n",
    "df['required_car_parking_spaces'] = max_value(df,'required_car_parking_spaces',8)\n",
    "df['total_of_special_requests'] = max_value(df,'total_of_special_requests',5)\n",
    "df['babies'] = max_value(df,'babies',10)\n",
    "df['children'] = max_value(df,'children',10.0)"
   ]
  },
  {
   "cell_type": "code",
   "execution_count": null,
   "id": "85f82070-b2e9-47bf-a0fc-789f47eba1eb",
   "metadata": {
    "id": "85f82070-b2e9-47bf-a0fc-789f47eba1eb",
    "outputId": "b9241fab-2c72-4473-b465-9ee8bc1afad5",
    "tags": []
   },
   "outputs": [
    {
     "data": {
      "text/plain": [
       "['hotel',\n",
       " 'arrival_date_month',\n",
       " 'meal',\n",
       " 'country',\n",
       " 'market_segment',\n",
       " 'distribution_channel',\n",
       " 'reserved_room_type',\n",
       " 'assigned_room_type',\n",
       " 'deposit_type',\n",
       " 'customer_type',\n",
       " 'reservation_status',\n",
       " 'reservation_status_date']"
      ]
     },
     "execution_count": 14,
     "metadata": {},
     "output_type": "execute_result"
    }
   ],
   "source": [
    "categorical = [var for var in df.columns if df[var].dtypes == 'object']\n",
    "categorical"
   ]
  },
  {
   "cell_type": "code",
   "execution_count": null,
   "id": "e963322c-6375-413a-b5de-8efa89bf4047",
   "metadata": {
    "id": "e963322c-6375-413a-b5de-8efa89bf4047",
    "tags": []
   },
   "outputs": [],
   "source": [
    "df['is_canceled'] = df['is_canceled'].astype('str')\n",
    "df['is_repeated_guest'] = df['is_repeated_guest'].astype('str')"
   ]
  },
  {
   "cell_type": "code",
   "execution_count": null,
   "id": "f520395c-effc-45ac-92df-4d8f10d328fe",
   "metadata": {
    "id": "f520395c-effc-45ac-92df-4d8f10d328fe",
    "tags": []
   },
   "outputs": [],
   "source": [
    "categorical = ['is_canceled',\n",
    " 'hotel',\n",
    " 'meal',\n",
    " 'country',\n",
    " 'is_repeated_guest',\n",
    " 'market_segment',\n",
    " 'reserved_room_type',\n",
    " 'assigned_room_type',\n",
    " 'deposit_type',\n",
    " 'customer_type',\n",
    " 'reservation_status']"
   ]
  },
  {
   "cell_type": "code",
   "execution_count": null,
   "id": "fe60a285-274d-4498-8011-eb908c32da87",
   "metadata": {
    "id": "fe60a285-274d-4498-8011-eb908c32da87",
    "tags": []
   },
   "outputs": [],
   "source": [
    "for i in categorical:\n",
    "    bookings = pd.concat([df, pd.get_dummies(df[i], drop_first=True)], axis=1)"
   ]
  },
  {
   "cell_type": "code",
   "execution_count": null,
   "id": "7119729e-ee4b-4a75-a2af-71002d5815f2",
   "metadata": {
    "id": "7119729e-ee4b-4a75-a2af-71002d5815f2",
    "tags": []
   },
   "outputs": [],
   "source": [
    "X = df.drop(['is_canceled', 'hotel', 'meal', 'is_repeated_guest', 'market_segment', 'reserved_room_type',\n",
    "                   'assigned_room_type', 'deposit_type', 'customer_type', 'reservation_status','arrival_date_month', 'country',\n",
    "                  'distribution_channel','reservation_status_date','arrival_date_day_of_month'], axis=1)\n",
    "y = df.is_canceled"
   ]
  },
  {
   "cell_type": "code",
   "execution_count": null,
   "id": "1fa22bdb-78ad-46fe-a2d4-b021a737e0da",
   "metadata": {
    "id": "1fa22bdb-78ad-46fe-a2d4-b021a737e0da",
    "tags": []
   },
   "outputs": [],
   "source": [
    "from sklearn.model_selection import train_test_split\n",
    "\n",
    "X_train, X_test, y_train, y_test = train_test_split(X, y, test_size=.20, random_state=0)"
   ]
  },
  {
   "cell_type": "code",
   "execution_count": null,
   "id": "9ee68d50-54ad-4589-b7cd-19ef8ee7035a",
   "metadata": {
    "id": "9ee68d50-54ad-4589-b7cd-19ef8ee7035a",
    "tags": []
   },
   "outputs": [],
   "source": [
    "from sklearn.preprocessing import StandardScaler\n",
    "\n",
    "scaler=StandardScaler()\n",
    "X_train = scaler.fit_transform(X_train)\n",
    "X_test = scaler.fit_transform(X_test)"
   ]
  },
  {
   "cell_type": "markdown",
   "id": "6a61f462-8b1d-4026-9f3f-2c2d5f4a2a83",
   "metadata": {
    "id": "6a61f462-8b1d-4026-9f3f-2c2d5f4a2a83"
   },
   "source": [
    "  "
   ]
  },
  {
   "cell_type": "markdown",
   "id": "f8d66cda-a69c-4d66-978a-3f04cff1e647",
   "metadata": {
    "id": "f8d66cda-a69c-4d66-978a-3f04cff1e647"
   },
   "source": [
    "   "
   ]
  },
  {
   "cell_type": "markdown",
   "id": "ff4be614-340f-44a3-a216-ab3a7cad2b42",
   "metadata": {
    "id": "ff4be614-340f-44a3-a216-ab3a7cad2b42"
   },
   "source": [
    "  "
   ]
  },
  {
   "cell_type": "markdown",
   "id": "4cdb0de2-8c8f-4010-af02-a3e39fe385d8",
   "metadata": {
    "id": "4cdb0de2-8c8f-4010-af02-a3e39fe385d8",
    "tags": []
   },
   "source": [
    "<h2>Multicollinearity Check</h2>"
   ]
  },
  {
   "cell_type": "code",
   "execution_count": null,
   "id": "bfaf3963-c6da-4b9d-a92f-2cc399252cca",
   "metadata": {
    "id": "bfaf3963-c6da-4b9d-a92f-2cc399252cca",
    "outputId": "69e6005e-f635-4d89-853a-972aec9020f5",
    "tags": []
   },
   "outputs": [
    {
     "name": "stdout",
     "output_type": "stream",
     "text": [
      "                           Feature       VIF\n",
      "0                        lead_time  1.196476\n",
      "1                arrival_date_year  1.069807\n",
      "2          stays_in_weekend_nights  1.469007\n",
      "3             stays_in_week_nights  1.539210\n",
      "4                           adults  1.110008\n",
      "5                         children  1.122548\n",
      "6                           babies  1.018781\n",
      "7           previous_cancellations  1.227099\n",
      "8   previous_bookings_not_canceled  1.253772\n",
      "9                  booking_changes  1.026191\n",
      "10            days_in_waiting_list  1.028442\n",
      "11                             adr  1.242359\n",
      "12     required_car_parking_spaces  1.020114\n",
      "13       total_of_special_requests  1.044663\n"
     ]
    }
   ],
   "source": [
    "from statsmodels.stats.outliers_influence import variance_inflation_factor\n",
    "\n",
    "X_train_df = pd.DataFrame(X_train, columns = X.columns)\n",
    "\n",
    "vif = pd.DataFrame()\n",
    "vif[\"Feature\"] = X_train_df.columns\n",
    "vif[\"VIF\"] = [variance_inflation_factor(X_train_df.values, i) for i in range(X_train_df.shape[1])]\n",
    "\n",
    "print(vif)"
   ]
  },
  {
   "cell_type": "code",
   "execution_count": null,
   "id": "eee92b4d-ab1d-4248-9189-88a97b389d2b",
   "metadata": {
    "id": "eee92b4d-ab1d-4248-9189-88a97b389d2b",
    "tags": []
   },
   "outputs": [],
   "source": [
    "X_train, X_test, y_train, y_test = train_test_split(X_train_df, y_train, test_size=0.2, random_state=42)"
   ]
  },
  {
   "cell_type": "markdown",
   "id": "6c43cda1-f6e0-4568-9d21-6b62ab780176",
   "metadata": {
    "id": "6c43cda1-f6e0-4568-9d21-6b62ab780176"
   },
   "source": [
    "   "
   ]
  },
  {
   "cell_type": "markdown",
   "id": "8437314c-b8af-493c-97af-9998c810779e",
   "metadata": {
    "id": "8437314c-b8af-493c-97af-9998c810779e"
   },
   "source": [
    "  "
   ]
  },
  {
   "cell_type": "markdown",
   "id": "d99995aa-78dd-47b5-8279-571a4c9fa214",
   "metadata": {
    "id": "d99995aa-78dd-47b5-8279-571a4c9fa214",
    "tags": []
   },
   "source": [
    "<h1>Models</h1>"
   ]
  },
  {
   "cell_type": "markdown",
   "id": "67075521-3e07-46d2-ad5e-448f6f97f914",
   "metadata": {
    "id": "67075521-3e07-46d2-ad5e-448f6f97f914",
    "jp-MarkdownHeadingCollapsed": true,
    "tags": []
   },
   "source": [
    "<h2>Logistic Regression</h2>"
   ]
  },
  {
   "cell_type": "markdown",
   "id": "4e0a72a9-2546-4a36-b9e8-c1680f97cf60",
   "metadata": {
    "id": "4e0a72a9-2546-4a36-b9e8-c1680f97cf60",
    "jp-MarkdownHeadingCollapsed": true,
    "tags": []
   },
   "source": [
    "<h4>Model Training</h4>"
   ]
  },
  {
   "cell_type": "code",
   "execution_count": null,
   "id": "f292b425-6c5e-4fc8-8e98-e0ddd54666bd",
   "metadata": {
    "id": "f292b425-6c5e-4fc8-8e98-e0ddd54666bd",
    "tags": []
   },
   "outputs": [],
   "source": [
    "from sklearn.linear_model import LogisticRegression\n",
    "\n",
    "model_lr = LogisticRegression(class_weight='balanced', max_iter=1000)\n",
    "model_lr.fit(X_train, y_train)\n",
    "y_pred = model_lr.predict(X_test)"
   ]
  },
  {
   "cell_type": "markdown",
   "id": "4ce10090-18e2-4ea2-b47f-e0a3980149d7",
   "metadata": {
    "id": "4ce10090-18e2-4ea2-b47f-e0a3980149d7",
    "jp-MarkdownHeadingCollapsed": true,
    "tags": []
   },
   "source": [
    "<h4>Model Evaluation</h4>"
   ]
  },
  {
   "cell_type": "code",
   "execution_count": null,
   "id": "4294e3da-43e3-4ced-b4ad-bdf816b2b027",
   "metadata": {
    "id": "4294e3da-43e3-4ced-b4ad-bdf816b2b027",
    "outputId": "bb91f42b-1b46-4b4e-a604-0ecfb6cadeb5",
    "tags": []
   },
   "outputs": [
    {
     "name": "stdout",
     "output_type": "stream",
     "text": [
      "Accuracy score  :  0.6585575271894677\n",
      "Precision :  0.8546634870164282\n",
      "Recall score :  0.6370728816906972\n",
      "F1: 0.7299988683942514\n",
      "Confusion Metrix: [[6451 3675]\n",
      " [1097 2753]]\n"
     ]
    }
   ],
   "source": [
    "from sklearn.metrics import accuracy_score, precision_score, recall_score, f1_score, confusion_matrix\n",
    "\n",
    "print(\"Accuracy score  : \", accuracy_score(y_test, y_pred))\n",
    "print(\"Precision : \", precision_score(y_test, y_pred, pos_label='0'))\n",
    "print(\"Recall score : \", recall_score(y_test, y_pred, pos_label='0'))\n",
    "print('F1:', f1_score(y_test, y_pred, pos_label='0'))\n",
    "print('Confusion Metrix:', confusion_matrix(y_test, y_pred))"
   ]
  },
  {
   "cell_type": "markdown",
   "id": "97899435-e440-4ea5-9244-40ff72aaf7b2",
   "metadata": {
    "id": "97899435-e440-4ea5-9244-40ff72aaf7b2",
    "jp-MarkdownHeadingCollapsed": true,
    "tags": []
   },
   "source": [
    "<h4>Hyperparameter Tuning</h4>"
   ]
  },
  {
   "cell_type": "code",
   "execution_count": null,
   "id": "e630d0f5-b448-474b-bdd7-6ff0b1739604",
   "metadata": {
    "id": "e630d0f5-b448-474b-bdd7-6ff0b1739604",
    "outputId": "070a6425-3ffd-4273-849e-424d53964e4c",
    "tags": []
   },
   "outputs": [
    {
     "name": "stdout",
     "output_type": "stream",
     "text": [
      "Fitting 5 folds for each of 100 candidates, totalling 500 fits\n",
      "Best hyperparameters for Logistic Regression: {'C': 0.9727649377076854, 'max_iter': 387, 'penalty': 'l1', 'solver': 'liblinear'}\n",
      "Accuracy of the best Logistic Regression model: 0.7510017172295363\n"
     ]
    }
   ],
   "source": [
    "from sklearn.model_selection import RandomizedSearchCV\n",
    "from scipy.stats import uniform, randint\n",
    "\n",
    "param_dist_lr = [\n",
    "    {\n",
    "        'solver': ['newton-cg', 'lbfgs', 'sag'],\n",
    "        'penalty': ['l2'],\n",
    "        'C': uniform(0.001, 10),\n",
    "        'max_iter': randint(100, 500)\n",
    "    },\n",
    "    {\n",
    "        'solver': ['liblinear'],\n",
    "        'penalty': ['l1', 'l2'],\n",
    "        'C': uniform(0.001, 10),\n",
    "        'max_iter': randint(100, 500)\n",
    "    },\n",
    "    {\n",
    "        'solver': ['saga'],\n",
    "        'penalty': ['l1', 'l2', 'elasticnet'],\n",
    "        'C': uniform(0.001, 10),\n",
    "        'max_iter': randint(100, 500),\n",
    "        'l1_ratio': uniform(0, 1)\n",
    "    }\n",
    "]\n",
    "\n",
    "\n",
    "random_search_lr = RandomizedSearchCV(estimator=LogisticRegression(random_state=42),\n",
    "                                      param_distributions=param_dist_lr,\n",
    "                                      n_iter=100, cv=5, n_jobs=-1, scoring='accuracy',\n",
    "                                      verbose=2, random_state=42, error_score='raise')\n",
    "\n",
    "random_search_lr.fit(X_train, y_train)\n",
    "\n",
    "best_params_lr = random_search_lr.best_params_\n",
    "print(\"Best hyperparameters for Logistic Regression:\", best_params_lr)\n",
    "\n",
    "best_model_lr = random_search_lr.best_estimator_\n",
    "accuracy_best_model_lr = best_model_lr.score(X_test, y_test)\n",
    "print(\"Accuracy of the best Logistic Regression model:\", accuracy_best_model_lr)"
   ]
  },
  {
   "cell_type": "markdown",
   "id": "e0c386ab-45a3-4670-8d5a-3a323cf2d697",
   "metadata": {
    "id": "e0c386ab-45a3-4670-8d5a-3a323cf2d697",
    "jp-MarkdownHeadingCollapsed": true,
    "tags": []
   },
   "source": [
    "<h4>Model Re-Training</h4>"
   ]
  },
  {
   "cell_type": "code",
   "execution_count": null,
   "id": "30bae7dd-03e1-4c06-99ab-b77ee03c5cfd",
   "metadata": {
    "id": "30bae7dd-03e1-4c06-99ab-b77ee03c5cfd",
    "tags": []
   },
   "outputs": [],
   "source": [
    "best_params_lr = {\n",
    "    'C': 0.9727649377076854,\n",
    "    'max_iter': 387,\n",
    "    'penalty': 'l1',\n",
    "    'solver': 'liblinear'\n",
    "}\n",
    "\n",
    "final_model_lr = LogisticRegression(**best_params_lr)\n",
    "final_model_lr.fit(X_train, y_train)\n",
    "\n",
    "y_pred_lr = final_model_lr.predict(X_test)"
   ]
  },
  {
   "cell_type": "markdown",
   "id": "b41e49e7-7a02-447a-943c-bbf5a0541b92",
   "metadata": {
    "id": "b41e49e7-7a02-447a-943c-bbf5a0541b92",
    "jp-MarkdownHeadingCollapsed": true,
    "tags": []
   },
   "source": [
    "<h4>New Model Evaluation</h4>"
   ]
  },
  {
   "cell_type": "code",
   "execution_count": null,
   "id": "db3fbfbd-db1d-4072-8c13-6470cef52b4a",
   "metadata": {
    "id": "db3fbfbd-db1d-4072-8c13-6470cef52b4a",
    "outputId": "1aded425-59cb-4beb-87fc-79d0f64fa3f9",
    "tags": []
   },
   "outputs": [
    {
     "name": "stdout",
     "output_type": "stream",
     "text": [
      "Logistic Regression Performance:\n",
      "Accuracy: 0.7510017172295363\n",
      "Precision: 0.7623973468098547\n",
      "Recall: 0.9534860754493384\n",
      "F1-score: 0.8473014480035103\n"
     ]
    }
   ],
   "source": [
    "accuracy_lr1 = accuracy_score(y_test, y_pred_lr)\n",
    "precision_lr1 = precision_score(y_test, y_pred_lr, pos_label='0')\n",
    "recall_lr1 = recall_score(y_test, y_pred_lr, pos_label='0')\n",
    "f1_lr1 = f1_score(y_test, y_pred_lr, pos_label='0')\n",
    "\n",
    "print(\"Logistic Regression Performance:\")\n",
    "print(f'Accuracy: {accuracy_lr1}')\n",
    "print(f'Precision: {precision_lr1}')\n",
    "print(f'Recall: {recall_lr1}')\n",
    "print(f'F1-score: {f1_lr1}')"
   ]
  },
  {
   "cell_type": "markdown",
   "id": "3fc6f367-891f-43f8-9efc-60492a8a75d1",
   "metadata": {
    "id": "3fc6f367-891f-43f8-9efc-60492a8a75d1",
    "jp-MarkdownHeadingCollapsed": true,
    "tags": []
   },
   "source": [
    "<h4>Feature Importance</h4>"
   ]
  },
  {
   "cell_type": "code",
   "execution_count": null,
   "id": "0b7eb422-0d59-4b3f-89fc-16f48709c7b0",
   "metadata": {
    "id": "0b7eb422-0d59-4b3f-89fc-16f48709c7b0",
    "tags": []
   },
   "outputs": [],
   "source": [
    "#coefficients = model_lr.coef_[0]\n",
    "#importance = np.abs(coefficients)\n",
    "#feature_importance_lr = pd.DataFrame({'Feature': X.columns, 'Importance': importance})\n",
    "#feature_importance_lr = feature_importance_lr.sort_values(by='Importance', ascending=False)\n",
    "#\n",
    "#print(feature_importance_lr.head(10))"
   ]
  },
  {
   "cell_type": "markdown",
   "id": "7ebef71e-ac96-4257-a87e-1d9240aceb76",
   "metadata": {
    "id": "7ebef71e-ac96-4257-a87e-1d9240aceb76",
    "jp-MarkdownHeadingCollapsed": true,
    "tags": []
   },
   "source": [
    "<h4>Feature Selection</h4>"
   ]
  },
  {
   "cell_type": "code",
   "execution_count": null,
   "id": "ae777248-8c30-4502-b2ef-a65e6db02f2b",
   "metadata": {
    "id": "ae777248-8c30-4502-b2ef-a65e6db02f2b",
    "tags": []
   },
   "outputs": [],
   "source": [
    "#from sklearn.feature_selection import RFE\n",
    "#\n",
    "#selector = RFE(estimator=model_lr, n_features_to_select=None, step=1)\n",
    "#X_train_selected = selector.fit_transform(X_train, y_train)\n",
    "#model_lr.fit(X_train_selected, y_train)\n",
    "#\n",
    "#print(\"Number of selected features:\", selector.n_features_)\n",
    "#print(\"Selected Features:\")\n",
    "#for i, feature in enumerate(X.columns):\n",
    "#    print(feature, \"-\", selector.support_[i])"
   ]
  },
  {
   "cell_type": "markdown",
   "id": "47e89889-5480-48eb-baec-bb561223034d",
   "metadata": {
    "id": "47e89889-5480-48eb-baec-bb561223034d",
    "jp-MarkdownHeadingCollapsed": true,
    "tags": []
   },
   "source": [
    "<h4>SHAP</h4>"
   ]
  },
  {
   "cell_type": "code",
   "execution_count": null,
   "id": "f7e04264-073d-45e4-9176-7820ee6b977a",
   "metadata": {
    "id": "f7e04264-073d-45e4-9176-7820ee6b977a"
   },
   "outputs": [],
   "source": [
    "#import shap\n",
    "#import matplotlib.pyplot as plt\n",
    "#import pandas as pd\n",
    "#\n",
    "#X_test_selected = selector.transform(X_test)\n",
    "#selected_feature_names = X.columns[selector.support_]\n",
    "#\n",
    "#explainer = shap.Explainer(model_lr, X_train_selected)\n",
    "#shap_values = explainer.shap_values(X_test_selected)\n",
    "#shap_values_df = pd.DataFrame(shap_values, columns=selected_feature_names)\n",
    "#\n",
    "#shap.summary_plot(shap_values, X_test_selected, feature_names=selected_feature_names)\n",
    "#\n",
    "#print(\"\\nSHAP values:\")\n",
    "#for i, feature_name in enumerate(selected_feature_names):\n",
    "#    print(f\"{feature_name}: {shap_values[:, i]}\")"
   ]
  },
  {
   "cell_type": "code",
   "execution_count": null,
   "id": "3f15c20f-3841-4fbb-ab11-9bd0a4a9192d",
   "metadata": {
    "id": "3f15c20f-3841-4fbb-ab11-9bd0a4a9192d",
    "outputId": "3a0630d7-c891-4b54-846a-bd915ac864c2",
    "tags": []
   },
   "outputs": [
    {
     "name": "stderr",
     "output_type": "stream",
     "text": [
      "Using `tqdm.autonotebook.tqdm` in notebook mode. Use `tqdm.tqdm` instead to force console mode (e.g. in jupyter console)\n"
     ]
    },
    {
     "name": "stdout",
     "output_type": "stream",
     "text": [
      "                           Feature  Mean Absolute SHAP Importance\n",
      "12     required_car_parking_spaces                       3.209425\n",
      "13       total_of_special_requests                       0.317503\n",
      "0                        lead_time                       0.298559\n",
      "11                             adr                       0.249603\n",
      "8   previous_bookings_not_canceled                       0.183456\n",
      "9                  booking_changes                       0.169467\n",
      "1                arrival_date_year                       0.132781\n",
      "7           previous_cancellations                       0.082155\n",
      "3             stays_in_week_nights                       0.054225\n",
      "4                           adults                       0.043706\n"
     ]
    }
   ],
   "source": [
    "import shap\n",
    "\n",
    "explainer = shap.Explainer(model_lr, X_train)\n",
    "shap_values = explainer.shap_values(X_test)\n",
    "\n",
    "mean_abs_shap_values = np.mean(np.abs(shap_values), axis=0)\n",
    "\n",
    "shap_importance_df = pd.DataFrame({'Feature': X.columns, 'Mean Absolute SHAP Importance': mean_abs_shap_values})\n",
    "shap_importance_df = shap_importance_df.sort_values(by='Mean Absolute SHAP Importance', ascending=False)\n",
    "\n",
    "print(shap_importance_df.head(10))"
   ]
  },
  {
   "cell_type": "markdown",
   "id": "1ede5b7d-7335-4e26-a372-432927c44b8d",
   "metadata": {
    "id": "1ede5b7d-7335-4e26-a372-432927c44b8d",
    "jp-MarkdownHeadingCollapsed": true,
    "tags": []
   },
   "source": [
    "<h4>LIME</h4>"
   ]
  },
  {
   "cell_type": "code",
   "execution_count": null,
   "id": "5390f280-dd08-4407-a7bb-af8b9a7e6634",
   "metadata": {
    "id": "5390f280-dd08-4407-a7bb-af8b9a7e6634",
    "outputId": "775991c0-e96d-4086-aee0-b85952a6dd32",
    "tags": []
   },
   "outputs": [
    {
     "name": "stdout",
     "output_type": "stream",
     "text": [
      "                          Feature  Mean Absolute LIME Coefficient\n",
      "0          previous_cancellations                        0.545081\n",
      "1     required_car_parking_spaces                        0.178221\n",
      "2  previous_bookings_not_canceled                        0.141503\n",
      "3                       lead_time                        0.058184\n",
      "4                 booking_changes                        0.054305\n",
      "5                          adults                        0.031658\n",
      "6                        children                        0.022785\n",
      "7            days_in_waiting_list                        0.020448\n",
      "8                             NaN                             NaN\n",
      "9                             NaN                             NaN\n"
     ]
    }
   ],
   "source": [
    "from lime.lime_tabular import LimeTabularExplainer\n",
    "\n",
    "feature_names = X_train.columns.tolist()\n",
    "X_train.columns = feature_names\n",
    "X_test.columns = feature_names\n",
    "\n",
    "explainer_lime = LimeTabularExplainer(\n",
    "    X_train.values,\n",
    "    feature_names=feature_names,\n",
    "    class_names=['Not Cancelled', 'Cancelled'],\n",
    "    discretize_continuous=True,\n",
    "    random_state=42\n",
    ")\n",
    "\n",
    "def lr_predict_proba(X):\n",
    "    if isinstance(X, np.ndarray):\n",
    "        X = pd.DataFrame(X, columns=feature_names)\n",
    "    return model_lr.predict_proba(X)\n",
    "\n",
    "exp = explainer_lime.explain_instance(X_test.values[0], lr_predict_proba, num_features=10)\n",
    "exp_list = exp.as_list()\n",
    "\n",
    "lime_features = [f.split(' ')[0] for f, _ in exp_list]\n",
    "lime_coefficients = [c for _, c in exp_list]\n",
    "\n",
    "filtered_features = [f for f in lime_features if f in feature_names]\n",
    "filtered_coefficients = [lime_coefficients[i] for i, f in enumerate(lime_features) if f in feature_names]\n",
    "\n",
    "lime_importance_df = pd.DataFrame({'Feature': filtered_features})\n",
    "lime_importance_df['Mean Absolute LIME Coefficient'] = np.abs(filtered_coefficients)\n",
    "\n",
    "while len(lime_importance_df) < 10:\n",
    "    lime_importance_df = pd.concat([lime_importance_df, pd.DataFrame({'Feature': [np.nan], 'Mean Absolute LIME Coefficient': [np.nan]})], ignore_index=True)\n",
    "\n",
    "print(lime_importance_df.head(10))"
   ]
  },
  {
   "cell_type": "code",
   "execution_count": null,
   "id": "2388c137-017b-46c1-a8bb-47a6fd2a88cf",
   "metadata": {
    "id": "2388c137-017b-46c1-a8bb-47a6fd2a88cf"
   },
   "outputs": [],
   "source": [
    "#from lime import lime_tabular\n",
    "#\n",
    "#explainer_subset = lime_tabular.LimeTabularExplainer(X_test_selected, feature_names=selected_feature_names, mode=\"classification\")\n",
    "#exp_subset = explainer_subset.explain_instance(X_test_selected[0], model_lr.predict_proba, num_features=10)\n",
    "#\n",
    "#exp_subset.show_in_notebook()"
   ]
  },
  {
   "cell_type": "code",
   "execution_count": null,
   "id": "dd600225-4c8e-4c7f-8642-ea1a98db3a28",
   "metadata": {
    "id": "dd600225-4c8e-4c7f-8642-ea1a98db3a28",
    "tags": []
   },
   "outputs": [],
   "source": [
    "#from lime import lime_tabular\n",
    "#\n",
    "#explainer = lime_tabular.LimeTabularExplainer(X_train.values, feature_names=X.columns, mode=\"classification\")\n",
    "#exp = explainer.explain_instance(X_test.values[0], model_lr.predict_proba, num_features=10)\n",
    "#\n",
    "#exp.show_in_notebook()\n",
    "#"
   ]
  },
  {
   "cell_type": "markdown",
   "id": "de10fab4-f484-46dc-888c-e75d41148c63",
   "metadata": {
    "id": "de10fab4-f484-46dc-888c-e75d41148c63",
    "jp-MarkdownHeadingCollapsed": true,
    "tags": []
   },
   "source": [
    "<h4>Permutation Importance</h4>"
   ]
  },
  {
   "cell_type": "code",
   "execution_count": null,
   "id": "b6bfd2fc-f837-4163-b8a3-8986423ef1d4",
   "metadata": {
    "id": "b6bfd2fc-f837-4163-b8a3-8986423ef1d4",
    "outputId": "4dbcefeb-55f6-4a92-cb1c-14a86f0dd359",
    "tags": []
   },
   "outputs": [
    {
     "name": "stdout",
     "output_type": "stream",
     "text": [
      "                           Feature  Importance\n",
      "13       total_of_special_requests    0.031754\n",
      "12     required_car_parking_spaces    0.021580\n",
      "0                        lead_time    0.021308\n",
      "11                             adr    0.020306\n",
      "9                  booking_changes    0.011348\n",
      "7           previous_cancellations    0.010976\n",
      "1                arrival_date_year    0.006826\n",
      "3             stays_in_week_nights    0.001660\n",
      "8   previous_bookings_not_canceled    0.001073\n",
      "5                         children    0.000873\n"
     ]
    }
   ],
   "source": [
    "from sklearn.inspection import permutation_importance\n",
    "import pandas as pd\n",
    "\n",
    "perm_importance = permutation_importance(model_lr, X_test, y_test)\n",
    "feature_names = X.columns\n",
    "\n",
    "perm_importance_df = pd.DataFrame({'Feature': feature_names, 'Importance': perm_importance.importances_mean})\n",
    "perm_importance_df = perm_importance_df.sort_values(by='Importance', ascending=False)\n",
    "\n",
    "print(perm_importance_df.head(10))"
   ]
  },
  {
   "cell_type": "code",
   "execution_count": null,
   "id": "449fe7bd-5660-4a64-a01c-f5d07b4d7535",
   "metadata": {
    "id": "449fe7bd-5660-4a64-a01c-f5d07b4d7535"
   },
   "outputs": [],
   "source": [
    "#from sklearn.inspection import permutation_importance\n",
    "#\n",
    "#perm_importance = permutation_importance(model_lr, X_test_selected, y_test)\n",
    "#feature_names = selected_feature_names\n",
    "#\n",
    "#perm_importance_df = pd.DataFrame({'Feature': feature_names, 'Importance': perm_importance.importances_mean})\n",
    "#perm_importance_df = perm_importance_df.sort_values(by='Importance', ascending=False)\n",
    "#print(perm_importance_df.head(10))\n",
    "#\n",
    "#plt.figure(figsize=(10, 6))\n",
    "#plt.barh(perm_importance_df['Feature'][:10], perm_importance_df['Importance'][:10])\n",
    "#plt.xlabel('Permutation Importance')\n",
    "#plt.ylabel('Feature')\n",
    "#plt.title('Top 10 Permutation Importances')\n",
    "#plt.gca().invert_yaxis()\n",
    "#plt.show()\n",
    "#"
   ]
  },
  {
   "cell_type": "code",
   "execution_count": null,
   "id": "58ba630e-834a-46e2-a9a9-88a8c9a5d151",
   "metadata": {
    "id": "58ba630e-834a-46e2-a9a9-88a8c9a5d151",
    "tags": []
   },
   "outputs": [],
   "source": [
    "#from sklearn.inspection import permutation_importance\n",
    "\n",
    "#perm_importance = permutation_importance(model_lr, X_test, y_test)\n",
    "#feature_names = X.columns\n",
    "#\n",
    "#perm_importance_df = pd.DataFrame({'Feature': feature_names, 'Importance': perm_importance.importances_mean})\n",
    "#perm_importance_df = perm_importance_df.sort_values(by='Importance', ascending=False)\n",
    "#print(perm_importance_df.head(10))\n",
    "#\n",
    "#plt.figure(figsize=(10, 6))\n",
    "#plt.barh(perm_importance_df['Feature'][:10], perm_importance_df['Importance'][:10])\n",
    "#plt.xlabel('Permutation Importance')\n",
    "#plt.ylabel('Feature')\n",
    "#plt.title('Top 10 Permutation Importances')\n",
    "#plt.gca().invert_yaxis()\n",
    "#plt.show()\n",
    "#"
   ]
  },
  {
   "cell_type": "markdown",
   "id": "66fa7ac5-bfae-454d-9596-2a33981d0364",
   "metadata": {
    "id": "66fa7ac5-bfae-454d-9596-2a33981d0364",
    "jp-MarkdownHeadingCollapsed": true,
    "tags": []
   },
   "source": [
    "<h4>Jaccard Similarity</h4>"
   ]
  },
  {
   "cell_type": "code",
   "execution_count": null,
   "id": "8d25b3d2-0d3c-41c9-84bb-f2a9e07100b8",
   "metadata": {
    "id": "8d25b3d2-0d3c-41c9-84bb-f2a9e07100b8",
    "outputId": "f589d178-2a2a-4f74-e9ce-39e077c37555",
    "tags": []
   },
   "outputs": [
    {
     "name": "stdout",
     "output_type": "stream",
     "text": [
      "Jaccard Similarity between SHAP and LIME: 0.46153846153846156\n",
      "Jaccard Similarity between SHAP and Permutation Importance: 0.8181818181818182\n",
      "Jaccard Similarity between LIME and Permutation Importance: 0.46153846153846156\n"
     ]
    }
   ],
   "source": [
    "import numpy as np\n",
    "\n",
    "top_shap_features = set(shap_importance_df.head(10)['Feature'])\n",
    "top_lime_features = set(lime_importance_df.head(10)['Feature'])\n",
    "top_perm_features = set(perm_importance_df.head(10)['Feature'])\n",
    "\n",
    "def jaccard_similarity(set1, set2):\n",
    "    intersection = len(set1 & set2)\n",
    "    union = len(set1 | set2)\n",
    "    return intersection / union\n",
    "\n",
    "jaccard_shap_lime = jaccard_similarity(top_shap_features, top_lime_features)\n",
    "jaccard_shap_perm = jaccard_similarity(top_shap_features, top_perm_features)\n",
    "jaccard_lime_perm = jaccard_similarity(top_lime_features, top_perm_features)\n",
    "\n",
    "print(\"Jaccard Similarity between SHAP and LIME:\", jaccard_shap_lime)\n",
    "print(\"Jaccard Similarity between SHAP and Permutation Importance:\", jaccard_shap_perm)\n",
    "print(\"Jaccard Similarity between LIME and Permutation Importance:\", jaccard_lime_perm)"
   ]
  },
  {
   "cell_type": "code",
   "execution_count": null,
   "id": "a240a44d-6d58-45a1-8a2f-fab800d99137",
   "metadata": {
    "id": "a240a44d-6d58-45a1-8a2f-fab800d99137",
    "tags": []
   },
   "outputs": [],
   "source": [
    "#top_shap_features_lr = shap_values_df.abs().mean().sort_values(ascending=False).index[:10]\n",
    "#top_lime_features_lr = [f[0] for f in exp_subset.as_list()]\n",
    "#top_permutation_features_lr = perm_importance_df['Feature'][:10]\n",
    "#\n",
    "#top_lime_features_formatted_lr = [feature.split(' ')[0] for feature in top_lime_features_lr]\n",
    "#\n",
    "#shap_set_lr = set(top_shap_features_lr)\n",
    "#lime_set_lr = set(top_lime_features_formatted_lr)\n",
    "#perm_set_lr = set(top_permutation_features_lr)\n",
    "#\n",
    "#shap_lime_lr = len(shap_set_lr.intersection(lime_set_lr)) / len(shap_set_lr.union(lime_set_lr))\n",
    "#shap_perm_lr = len(shap_set_lr.intersection(perm_set_lr)) / len(shap_set_lr.union(perm_set_lr))\n",
    "#lime_perm_lr = len(lime_set_lr.intersection(perm_set_lr)) / len(lime_set_lr.union(perm_set_lr))\n",
    "#\n",
    "#print(\"SHAP:\")\n",
    "#print(top_shap_features_lr)\n",
    "#print(\"\\nLIME:\")\n",
    "#print(top_lime_features_formatted_lr)\n",
    "#print(\"\\nPermutation Importance:\")\n",
    "#print(top_permutation_features_lr)"
   ]
  },
  {
   "cell_type": "code",
   "execution_count": null,
   "id": "22597623-36f2-473d-8757-d14ee9effc12",
   "metadata": {
    "id": "22597623-36f2-473d-8757-d14ee9effc12",
    "tags": []
   },
   "outputs": [],
   "source": [
    "#top_shap_features_lr = ['required_car_parking_spaces', 'lead_time', 'total_of_special_requests',\n",
    "#                        'adr', 'previous_bookings_not_canceled', 'booking_changes',\n",
    "#                        'previous_cancellations']\n",
    "#\n",
    "#top_lime_features_lr = ['previous_cancellations <= -0.08', 'required_car_parking_spaces <= -0.30',\n",
    "#                        'previous_bookings_not_canceled <= -0.11', 'booking_changes <= -0.37',\n",
    "#                        'lead_time <= -0.80', '-0.31 < arrival_date_year <= 1.15',\n",
    "#                        'days_in_waiting_list <= -0.07', '-0.62 < adr <= -0.15',\n",
    "#                        'children <= -0.30', 'adults <= 0.19']\n",
    "#\n",
    "#top_permutation_features_lr = ['total_of_special_requests', 'lead_time', 'required_car_parking_spaces',\n",
    "#                               'adr', 'booking_changes', 'previous_cancellations', 'arrival_date_year',\n",
    "#                               'stays_in_week_nights', 'previous_bookings_not_canceled', 'children']\n",
    "#\n",
    "#shap_set_lr = set(top_shap_features_lr)\n",
    "#lime_set_lr = set([feature.split(\" \")[0] for feature in top_lime_features_lr])\n",
    "#perm_set_lr = set(top_permutation_features_lr)\n",
    "#\n",
    "#shap_lime_lr = len(shap_set_lr.intersection(lime_set_lr)) / len(shap_set_lr.union(lime_set_lr))\n",
    "#shap_perm_lr = len(shap_set_lr.intersection(perm_set_lr)) / len(shap_set_lr.union(perm_set_lr))\n",
    "#lime_perm_lr = len(lime_set_lr.intersection(perm_set_lr)) / len(lime_set_lr.union(perm_set_lr))\n",
    "#\n",
    "#print(\"SHAP:\")\n",
    "#print(top_shap_features_lr)\n",
    "#print(\"\\nLIME:\")\n",
    "#print(top_lime_features_lr)\n",
    "#print(\"\\nPermutation Importance:\")\n",
    "#print(top_permutation_features_lr)\n",
    "#\n",
    "#print(\"\\nOverlap between SHAP and LIME:\", shap_lime_lr)\n",
    "#print(\"Overlap between SHAP and Permutation Importance:\", shap_perm_lr)\n",
    "#print(\"Overlap between LIME and Permutation Importance:\", lime_perm_lr)\n",
    "#"
   ]
  },
  {
   "cell_type": "code",
   "execution_count": null,
   "id": "96523e8a-2a7f-4314-831b-3de473a75f23",
   "metadata": {
    "id": "96523e8a-2a7f-4314-831b-3de473a75f23",
    "tags": []
   },
   "outputs": [],
   "source": [
    "#print(\"\\nJaccard Similarity:\")\n",
    "#print(f\"SHAP vs LIME: {shap_lime_lr}\")\n",
    "#print(f\"SHAP vs Permutation Importance: {shap_perm_lr}\")\n",
    "#print(f\"LIME vs Permutation Importance: {lime_perm_lr}\")"
   ]
  },
  {
   "cell_type": "markdown",
   "id": "25526874-0458-4cd6-ac17-e4eff4c66ccc",
   "metadata": {
    "id": "25526874-0458-4cd6-ac17-e4eff4c66ccc",
    "jp-MarkdownHeadingCollapsed": true,
    "tags": []
   },
   "source": [
    "<h4>Spearman Correlation</h4>"
   ]
  },
  {
   "cell_type": "code",
   "execution_count": null,
   "id": "2f661567-6a2c-4857-bb16-ca03f54ac7fd",
   "metadata": {
    "id": "2f661567-6a2c-4857-bb16-ca03f54ac7fd",
    "outputId": "e7625866-4877-4d43-fd19-5e46f56c6f01",
    "tags": []
   },
   "outputs": [
    {
     "name": "stdout",
     "output_type": "stream",
     "text": [
      "Spearman Correlation between SHAP and LIME: 0.4527249930636436\n",
      "Spearman Correlation between SHAP and Permutation Importance: 0.9440353460972019\n",
      "Spearman Correlation between LIME and Permutation Importance: 0.3442596301421456\n"
     ]
    }
   ],
   "source": [
    "from scipy.stats import spearmanr\n",
    "\n",
    "merged_df = pd.merge(shap_importance_df, lime_importance_df, on='Feature', how='outer')\n",
    "merged_df = pd.merge(merged_df, perm_importance_df, on='Feature', how='outer')\n",
    "merged_df = merged_df.fillna(0)\n",
    "\n",
    "merged_df['SHAP Rank'] = merged_df['Mean Absolute SHAP Importance'].rank(ascending=False)\n",
    "merged_df['LIME Rank'] = merged_df['Mean Absolute LIME Coefficient'].rank(ascending=False)\n",
    "merged_df['Permutation Rank'] = merged_df['Importance'].rank(ascending=False)\n",
    "\n",
    "spearman_shap_lime = spearmanr(merged_df['SHAP Rank'], merged_df['LIME Rank']).correlation\n",
    "spearman_shap_perm = spearmanr(merged_df['SHAP Rank'], merged_df['Permutation Rank']).correlation\n",
    "spearman_lime_perm = spearmanr(merged_df['LIME Rank'], merged_df['Permutation Rank']).correlation\n",
    "\n",
    "print(\"Spearman Correlation between SHAP and LIME:\", spearman_shap_lime)\n",
    "print(\"Spearman Correlation between SHAP and Permutation Importance:\", spearman_shap_perm)\n",
    "print(\"Spearman Correlation between LIME and Permutation Importance:\", spearman_lime_perm)"
   ]
  },
  {
   "cell_type": "markdown",
   "id": "b631eec3-14ee-4893-9809-dfc13ca2b4e5",
   "metadata": {
    "id": "b631eec3-14ee-4893-9809-dfc13ca2b4e5"
   },
   "source": [
    "  "
   ]
  },
  {
   "cell_type": "markdown",
   "id": "fb67efe2-64f5-4026-9985-ed419a513036",
   "metadata": {
    "id": "fb67efe2-64f5-4026-9985-ed419a513036"
   },
   "source": [
    "   "
   ]
  },
  {
   "cell_type": "markdown",
   "id": "31b238af-c5d9-4cda-b2e1-da01a2fa806c",
   "metadata": {
    "id": "31b238af-c5d9-4cda-b2e1-da01a2fa806c",
    "jp-MarkdownHeadingCollapsed": true,
    "tags": []
   },
   "source": [
    "<h2>Random Forest</h2>"
   ]
  },
  {
   "cell_type": "markdown",
   "id": "8ad04964-9458-4399-a86d-1e8643c57506",
   "metadata": {
    "id": "8ad04964-9458-4399-a86d-1e8643c57506",
    "jp-MarkdownHeadingCollapsed": true,
    "tags": []
   },
   "source": [
    "<h4>Model Training</h4>"
   ]
  },
  {
   "cell_type": "code",
   "execution_count": null,
   "id": "704bbae3-8c07-4045-aeab-e7d002cce5fe",
   "metadata": {
    "id": "704bbae3-8c07-4045-aeab-e7d002cce5fe",
    "tags": []
   },
   "outputs": [],
   "source": [
    "from sklearn.ensemble import RandomForestClassifier\n",
    "\n",
    "model_rf = RandomForestClassifier(class_weight='balanced')\n",
    "model_rf.fit(X_train, y_train)\n",
    "y_pred_rf = model_rf.predict(X_test)"
   ]
  },
  {
   "cell_type": "markdown",
   "id": "114115c6-01e1-4f19-bc17-515010423623",
   "metadata": {
    "id": "114115c6-01e1-4f19-bc17-515010423623",
    "jp-MarkdownHeadingCollapsed": true,
    "tags": []
   },
   "source": [
    "<h4>Model Evaluation</h4>"
   ]
  },
  {
   "cell_type": "code",
   "execution_count": null,
   "id": "d7aaf0e8-2856-430a-aa58-da08ecaff839",
   "metadata": {
    "id": "d7aaf0e8-2856-430a-aa58-da08ecaff839",
    "outputId": "8a0e7604-3da2-4531-84ba-cf5801cd99f9",
    "tags": []
   },
   "outputs": [
    {
     "name": "stdout",
     "output_type": "stream",
     "text": [
      "Accuracy score  :  0.7666714367487121\n",
      "Precision :  0.8068293555019219\n",
      "Recall score :  0.8913687537033379\n",
      "F1: 0.8469947919110402\n"
     ]
    }
   ],
   "source": [
    "print(\"Accuracy score  : \", accuracy_score(y_test, y_pred_rf))\n",
    "print(\"Precision : \", precision_score(y_test, y_pred_rf, pos_label='0'))\n",
    "print(\"Recall score : \", recall_score(y_test, y_pred_rf, pos_label='0'))\n",
    "print('F1:', f1_score(y_test, y_pred_rf, pos_label='0'))"
   ]
  },
  {
   "cell_type": "markdown",
   "id": "19bd0fb3-089c-4c66-a897-43d0fabacf6d",
   "metadata": {
    "id": "19bd0fb3-089c-4c66-a897-43d0fabacf6d",
    "jp-MarkdownHeadingCollapsed": true,
    "tags": []
   },
   "source": [
    "<h4>Hyperparameter Tuning</h4>"
   ]
  },
  {
   "cell_type": "code",
   "execution_count": null,
   "id": "8f8e13b5-354d-42a2-8897-d576ceca407b",
   "metadata": {
    "id": "8f8e13b5-354d-42a2-8897-d576ceca407b",
    "outputId": "e5a02a31-5e1b-47bf-9e7a-07b884e849cc",
    "tags": []
   },
   "outputs": [
    {
     "name": "stdout",
     "output_type": "stream",
     "text": [
      "Fitting 5 folds for each of 100 candidates, totalling 500 fits\n",
      "Best hyperparameters for RandomForestClassifier: {'bootstrap': True, 'class_weight': None, 'criterion': 'gini', 'max_depth': 35, 'max_features': 'sqrt', 'min_samples_leaf': 1, 'min_samples_split': 19, 'n_estimators': 323}\n",
      "Accuracy of the best RandomForestClassifier model: 0.7820549513451631\n"
     ]
    }
   ],
   "source": [
    "from sklearn.ensemble import RandomForestClassifier\n",
    "from sklearn.model_selection import RandomizedSearchCV\n",
    "from scipy.stats import randint, uniform\n",
    "\n",
    "model_rf = RandomForestClassifier(random_state=42)\n",
    "\n",
    "param_dist_rf = {\n",
    "    'n_estimators': randint(100, 500),\n",
    "    'max_depth': [None] + list(randint(10, 50).rvs(10)),\n",
    "    'min_samples_split': randint(2, 20),\n",
    "    'min_samples_leaf': randint(1, 20),\n",
    "    'max_features': ['sqrt', 'log2'],\n",
    "    'bootstrap': [True, False],\n",
    "    'criterion': ['gini', 'entropy'],\n",
    "    'class_weight': [None, 'balanced', 'balanced_subsample']\n",
    "}\n",
    "\n",
    "\n",
    "random_search_rf = RandomizedSearchCV(estimator=model_rf, param_distributions=param_dist_rf,\n",
    "                                     n_iter=100, cv=5, n_jobs=-1, scoring='accuracy',\n",
    "                                     verbose=2, random_state=42, error_score='raise')\n",
    "random_search_rf.fit(X_train, y_train)\n",
    "\n",
    "best_params_rf = random_search_rf.best_params_\n",
    "print(\"Best hyperparameters for RandomForestClassifier:\", best_params_rf)\n",
    "\n",
    "best_model_rf = random_search_rf.best_estimator_\n",
    "\n",
    "accuracy_best_model_rf = best_model_rf.score(X_test, y_test)\n",
    "print(\"Accuracy of the best RandomForestClassifier model:\", accuracy_best_model_rf)\n"
   ]
  },
  {
   "cell_type": "markdown",
   "id": "d2bbaf93-c45c-4992-85eb-8dec4aacb09d",
   "metadata": {
    "id": "d2bbaf93-c45c-4992-85eb-8dec4aacb09d",
    "jp-MarkdownHeadingCollapsed": true,
    "tags": []
   },
   "source": [
    "<h4>Model Re-Training</h4>"
   ]
  },
  {
   "cell_type": "code",
   "execution_count": null,
   "id": "6a9f4d9e-2127-46d0-b2d6-d6ae94f70d7d",
   "metadata": {
    "id": "6a9f4d9e-2127-46d0-b2d6-d6ae94f70d7d",
    "tags": []
   },
   "outputs": [],
   "source": [
    "best_params_rf = {\n",
    "    'bootstrap': True,\n",
    "    'class_weight': None,\n",
    "    'criterion': 'gini',\n",
    "    'max_depth': 24,\n",
    "    'max_features': 'log2',\n",
    "    'min_samples_leaf': 1,\n",
    "    'min_samples_split': 18,\n",
    "    'n_estimators': 387\n",
    "}\n",
    "\n",
    "final_model_rf = RandomForestClassifier(**best_params_rf)\n",
    "final_model_rf.fit(X_train, y_train)\n",
    "\n",
    "y_pred_rf1 = final_model_rf.predict(X_test)"
   ]
  },
  {
   "cell_type": "markdown",
   "id": "c4aa77d6-9feb-49c5-bd57-6f3d83142652",
   "metadata": {
    "id": "c4aa77d6-9feb-49c5-bd57-6f3d83142652",
    "jp-MarkdownHeadingCollapsed": true,
    "tags": []
   },
   "source": [
    "<h4>New Model Evaluation</h4>"
   ]
  },
  {
   "cell_type": "code",
   "execution_count": null,
   "id": "00d0c55f-2f81-4dd2-b8db-fe3d4b079b99",
   "metadata": {
    "id": "00d0c55f-2f81-4dd2-b8db-fe3d4b079b99",
    "outputId": "b08adcfd-2a88-43ea-82e1-d39cabec1f44",
    "tags": []
   },
   "outputs": [
    {
     "name": "stdout",
     "output_type": "stream",
     "text": [
      "Random Forest Classifier Performance:\n",
      "Accuracy: 0.7844161419576416\n",
      "Precision: 0.8012706480304955\n",
      "Recall: 0.9341299624728422\n",
      "F1-score: 0.8626145638593771\n"
     ]
    }
   ],
   "source": [
    "accuracy_rf1 = accuracy_score(y_test, y_pred_rf1)\n",
    "precision_rf1 = precision_score(y_test, y_pred_rf1, pos_label='0')\n",
    "recall_rf1 = recall_score(y_test, y_pred_rf1, pos_label='0')\n",
    "f1_rf1 = f1_score(y_test, y_pred_rf1, pos_label='0')\n",
    "\n",
    "\n",
    "print(\"Random Forest Classifier Performance:\")\n",
    "print(f'Accuracy: {accuracy_rf1}')\n",
    "print(f'Precision: {precision_rf1}')\n",
    "print(f'Recall: {recall_rf1}')\n",
    "print(f'F1-score: {f1_rf1}')"
   ]
  },
  {
   "cell_type": "markdown",
   "id": "37427d61-4177-44aa-83ad-158a5ec0700c",
   "metadata": {
    "id": "37427d61-4177-44aa-83ad-158a5ec0700c",
    "jp-MarkdownHeadingCollapsed": true,
    "tags": []
   },
   "source": [
    "<h4>Feature Importance</h4>"
   ]
  },
  {
   "cell_type": "code",
   "execution_count": null,
   "id": "db630e3d-57d6-45be-9ce7-0f711e81ec25",
   "metadata": {
    "id": "db630e3d-57d6-45be-9ce7-0f711e81ec25",
    "tags": []
   },
   "outputs": [],
   "source": [
    "#feature_importances = model_rf.feature_importances_\n",
    "#feature_importance_rf = pd.DataFrame({'Feature': X.columns, 'Importance': feature_importances})\n",
    "#feature_importance_rf = feature_importance_rf.sort_values(by='Importance', ascending=False)\n",
    "#\n",
    "#print(feature_importance_rf.head(10))"
   ]
  },
  {
   "cell_type": "markdown",
   "id": "dee14add-7cdc-4301-96c2-5caaa3afe160",
   "metadata": {
    "id": "dee14add-7cdc-4301-96c2-5caaa3afe160",
    "jp-MarkdownHeadingCollapsed": true,
    "tags": []
   },
   "source": [
    "<h4>Feature Selection</h4>"
   ]
  },
  {
   "cell_type": "code",
   "execution_count": null,
   "id": "2c79299a-2a0c-4ffb-b61a-239048b17c01",
   "metadata": {
    "id": "2c79299a-2a0c-4ffb-b61a-239048b17c01",
    "tags": []
   },
   "outputs": [],
   "source": [
    "#selector_rf = RFE(estimator=model_rf, n_features_to_select=None, step=1)\n",
    "#X_train_selected_rf = selector_rf.fit_transform(X_train, y_train)\n",
    "#model_rf.fit(X_train_selected_rf, y_train)\n",
    "#\n",
    "#print(\"Number of selected features:\", selector_rf.n_features_)\n",
    "#print(\"Selected Features:\", selector_rf.support_)"
   ]
  },
  {
   "cell_type": "markdown",
   "id": "0d326108-b909-4888-b1d1-67d261058233",
   "metadata": {
    "id": "0d326108-b909-4888-b1d1-67d261058233",
    "jp-MarkdownHeadingCollapsed": true,
    "tags": []
   },
   "source": [
    "<h4>SHAP</h4>"
   ]
  },
  {
   "cell_type": "code",
   "execution_count": null,
   "id": "9bfdc7cd-3114-4e72-8a94-e65c28465a0a",
   "metadata": {
    "id": "9bfdc7cd-3114-4e72-8a94-e65c28465a0a",
    "outputId": "2e0d7c74-5359-465e-b1c8-50fd72257dd8",
    "tags": []
   },
   "outputs": [
    {
     "name": "stderr",
     "output_type": "stream",
     "text": [
      "Permutation explainer: 13977it [53:59,  4.30it/s]                            \n"
     ]
    },
    {
     "name": "stdout",
     "output_type": "stream",
     "text": [
      "                        Feature  Mean Absolute SHAP\n",
      "13    total_of_special_requests            0.077820\n",
      "0                     lead_time            0.076754\n",
      "11                          adr            0.055813\n",
      "12  required_car_parking_spaces            0.052823\n",
      "9               booking_changes            0.033324\n",
      "1             arrival_date_year            0.029730\n",
      "3          stays_in_week_nights            0.024931\n",
      "2       stays_in_weekend_nights            0.019430\n",
      "4                        adults            0.014454\n",
      "7        previous_cancellations            0.012643\n"
     ]
    }
   ],
   "source": [
    "from sklearn.ensemble import RandomForestClassifier\n",
    "\n",
    "model_rf = RandomForestClassifier(class_weight='balanced', random_state=42)\n",
    "model_rf.fit(X_train, y_train)\n",
    "\n",
    "def rf_predict(X):\n",
    "    return model_rf.predict_proba(X)[:, 1]  # Assuming binary classification, returning probability of class 1\n",
    "\n",
    "explainer_rf = shap.Explainer(rf_predict, X_train)\n",
    "shap_values_rf = explainer_rf.shap_values(X_test)\n",
    "\n",
    "mean_abs_shap_rf = np.mean(np.abs(shap_values_rf), axis=0)\n",
    "mean_abs_shap_rf_df = pd.DataFrame({'Feature': X_train.columns, 'Mean Absolute SHAP': mean_abs_shap_rf})\n",
    "mean_abs_shap_rf_df = mean_abs_shap_rf_df.sort_values(by='Mean Absolute SHAP', ascending=False)\n",
    "\n",
    "print(mean_abs_shap_rf_df.head(10))"
   ]
  },
  {
   "cell_type": "markdown",
   "id": "b0fabbf6-6da0-4d17-affa-f91a504fba4c",
   "metadata": {
    "id": "b0fabbf6-6da0-4d17-affa-f91a504fba4c",
    "jp-MarkdownHeadingCollapsed": true,
    "tags": []
   },
   "source": [
    "<h4>LIME</h4>"
   ]
  },
  {
   "cell_type": "code",
   "execution_count": null,
   "id": "fb4628d8-e528-4e0b-bdd3-fe6747c70b23",
   "metadata": {
    "id": "fb4628d8-e528-4e0b-bdd3-fe6747c70b23",
    "outputId": "3496d8ea-9448-4662-8cc8-17db85bd9d20",
    "tags": []
   },
   "outputs": [
    {
     "name": "stderr",
     "output_type": "stream",
     "text": [
      "X does not have valid feature names, but RandomForestClassifier was fitted with feature names\n"
     ]
    },
    {
     "name": "stdout",
     "output_type": "stream",
     "text": [
      "                          Feature  Mean Absolute LIME Coefficient\n",
      "0                       lead_time                        0.064218\n",
      "1  previous_bookings_not_canceled                        0.064151\n",
      "2          previous_cancellations                        0.056560\n",
      "3       total_of_special_requests                        0.039630\n",
      "4                 booking_changes                        0.035685\n",
      "5                             adr                        0.032361\n",
      "6     required_car_parking_spaces                        0.026820\n",
      "7            stays_in_week_nights                        0.005928\n",
      "8         stays_in_weekend_nights                        0.004123\n",
      "9               arrival_date_year                        0.001601\n"
     ]
    }
   ],
   "source": [
    "from lime.lime_tabular import LimeTabularExplainer\n",
    "\n",
    "feature_names = X_train.columns.tolist()\n",
    "X_train.columns = feature_names\n",
    "X_test.columns = feature_names\n",
    "\n",
    "def rf_predict_proba(X):\n",
    "    return model_rf.predict_proba(X)\n",
    "\n",
    "explainer_lime_rf = LimeTabularExplainer(\n",
    "    X_train.values,\n",
    "    feature_names=feature_names,\n",
    "    class_names=['Not Cancelled', 'Cancelled'],\n",
    "    discretize_continuous=False\n",
    ")\n",
    "\n",
    "\n",
    "exp_rf = explainer_lime_rf.explain_instance(X_test.values[0], rf_predict_proba, num_features=10)\n",
    "exp_list_rf = exp_rf.as_list()\n",
    "\n",
    "lime_features_rf = [f.split(' ')[0] for f, _ in exp_list_rf]\n",
    "lime_coefficients_rf = [c for _, c in exp_list_rf]\n",
    "\n",
    "filtered_features_rf = [f for f in lime_features_rf if f in feature_names]\n",
    "filtered_coefficients_rf = [lime_coefficients_rf[i] for i, f in enumerate(lime_features_rf) if f in feature_names]\n",
    "\n",
    "lime_importance_df_rf = pd.DataFrame({'Feature': filtered_features_rf})\n",
    "lime_importance_df_rf['Mean Absolute LIME Coefficient'] = np.abs(filtered_coefficients_rf)\n",
    "\n",
    "print(lime_importance_df_rf.head(10))"
   ]
  },
  {
   "cell_type": "markdown",
   "id": "19dcd6a9-716c-433a-bc56-1917508cd988",
   "metadata": {
    "id": "19dcd6a9-716c-433a-bc56-1917508cd988",
    "jp-MarkdownHeadingCollapsed": true,
    "tags": []
   },
   "source": [
    "<h4>Permutation Importance</h4>"
   ]
  },
  {
   "cell_type": "code",
   "execution_count": null,
   "id": "60a2d7c3-98cc-4acf-8f17-a047b6815d6a",
   "metadata": {
    "id": "60a2d7c3-98cc-4acf-8f17-a047b6815d6a",
    "outputId": "87cc9c9e-978b-4b2d-8ae4-f5559ab34474"
   },
   "outputs": [
    {
     "name": "stdout",
     "output_type": "stream",
     "text": [
      "                        Feature  Importance\n",
      "13    total_of_special_requests    0.045764\n",
      "0                     lead_time    0.043560\n",
      "11                          adr    0.036639\n",
      "1             arrival_date_year    0.018389\n",
      "7        previous_cancellations    0.016836\n",
      "9               booking_changes    0.013060\n",
      "12  required_car_parking_spaces    0.012197\n",
      "3          stays_in_week_nights    0.008016\n"
     ]
    }
   ],
   "source": [
    "perm_importance_rf = permutation_importance(model_rf, X_test, y_test, n_repeats=30, random_state=42)\n",
    "feature_names = X.columns\n",
    "\n",
    "perm_importance_df_rf = pd.DataFrame({'Feature': feature_names, 'Importance': perm_importance_rf.importances_mean})\n",
    "perm_importance_df_rf = perm_importance_df_rf.sort_values(by='Importance', ascending=False)\n",
    "\n",
    "top_n_perm_importance_df_rf = perm_importance_df_rf.head(len(shap_importances))\n",
    "\n",
    "print(top_n_perm_importance_df_rf)"
   ]
  },
  {
   "cell_type": "markdown",
   "id": "c9949c4e-b1e2-4cc6-970d-ba2f55982653",
   "metadata": {
    "id": "c9949c4e-b1e2-4cc6-970d-ba2f55982653",
    "jp-MarkdownHeadingCollapsed": true,
    "tags": []
   },
   "source": [
    "<h4>Jaccard Similarity</h4>"
   ]
  },
  {
   "cell_type": "code",
   "execution_count": null,
   "id": "e6fcc712-7454-49b6-a966-59c053da0f53",
   "metadata": {
    "id": "e6fcc712-7454-49b6-a966-59c053da0f53",
    "outputId": "2a61062f-bb03-4d61-8140-62d23500cd05",
    "tags": []
   },
   "outputs": [
    {
     "name": "stdout",
     "output_type": "stream",
     "text": [
      "Jaccard Similarity between SHAP and LIME: 0.6666666666666666\n",
      "Jaccard Similarity between SHAP and Permutation Importance: 0.8181818181818182\n",
      "Jaccard Similarity between LIME and Permutation Importance: 0.6666666666666666\n"
     ]
    }
   ],
   "source": [
    "top_shap_features = set(mean_abs_shap_rf_df.head(10)['Feature'])\n",
    "top_lime_features = set(lime_importance_df_rf.head(10)['Feature'])\n",
    "top_perm_importance_features = set(perm_importance_df_rf.head(10)['Feature'])\n",
    "\n",
    "jaccard_similarity_shap_lime = len(top_shap_features.intersection(top_lime_features)) / len(top_shap_features.union(top_lime_features))\n",
    "jaccard_similarity_shap_perm_importance = len(top_shap_features.intersection(top_perm_importance_features)) / len(top_shap_features.union(top_perm_importance_features))\n",
    "jaccard_similarity_lime_perm_importance = len(top_lime_features.intersection(top_perm_importance_features)) / len(top_lime_features.union(top_perm_importance_features))\n",
    "\n",
    "print(\"Jaccard Similarity between SHAP and LIME:\", jaccard_similarity_shap_lime)\n",
    "print(\"Jaccard Similarity between SHAP and Permutation Importance:\", jaccard_similarity_shap_perm_importance)\n",
    "print(\"Jaccard Similarity between LIME and Permutation Importance:\", jaccard_similarity_lime_perm_importance)"
   ]
  },
  {
   "cell_type": "code",
   "execution_count": null,
   "id": "ddb6d0c2-f751-4f59-a9ca-d9daecd94ddc",
   "metadata": {
    "id": "ddb6d0c2-f751-4f59-a9ca-d9daecd94ddc",
    "tags": []
   },
   "outputs": [],
   "source": [
    "#top_shap_features_rf = shap_values_rf_df.abs().mean().sort_values(ascending=False).index[:10]\n",
    "#\n",
    "#lime_selected_features_rf = exp.as_list()\n",
    "#lime_selected_features_rf = set([feature[0] for feature in lime_selected_features_rf if feature[1] > 0])\n",
    "#\n",
    "#perm_selected_features_rf = set(X.columns[sorted_idx_rf][-10:])\n",
    "#\n",
    "#shap_set_rf = set(top_shap_features_rf)\n",
    "#lime_set_rf = set(lime_selected_features_rf)\n",
    "#perm_set_rf = set(perm_selected_features_rf)\n",
    "#\n",
    "#lime_feature_names_rf = set([feature.split(' ')[0] for feature in lime_selected_features_rf])\n",
    "#\n",
    "#shap_lime_intersection_rf = shap_set_rf.intersection(lime_feature_names_rf)\n",
    "#shap_lime_union_rf = shap_set_rf.union(lime_feature_names_rf)\n",
    "#\n",
    "#shap_lime_rf = len(shap_lime_intersection_rf) / (len(shap_lime_union_rf) or 1)\n",
    "#shap_perm_rf = len(shap_set_rf.intersection(perm_set_rf)) / (len(shap_set_rf.union(perm_set_rf)) or 1)\n",
    "#lime_perm_rf = len(lime_set_rf.intersection(perm_set_rf)) / (len(lime_set_rf.union(perm_set_rf)) or 1)\n",
    "#\n",
    "#print(\"\\nRandom Forest:\")\n",
    "#print(\"SHAP:\")\n",
    "#print(top_shap_features_rf)\n",
    "#print(\"\\nLIME:\")\n",
    "#print(lime_selected_features_rf)\n",
    "#print(\"\\nPermutation Importance:\")\n",
    "#print(perm_selected_features_rf)"
   ]
  },
  {
   "cell_type": "code",
   "execution_count": null,
   "id": "e50e56ad-33de-4e5f-9f2f-0697b1194ac0",
   "metadata": {
    "id": "e50e56ad-33de-4e5f-9f2f-0697b1194ac0",
    "tags": []
   },
   "outputs": [],
   "source": [
    "#print(\"\\nJaccard Similarity:\")\n",
    "#print(f\"SHAP vs LIME: {shap_lime_rf}\")\n",
    "#print(f\"SHAP vs Permutation Importance: {shap_perm_rf}\")\n",
    "#print(f\"LIME vs Permutation Importance: {lime_perm_rf}\")"
   ]
  },
  {
   "cell_type": "markdown",
   "id": "828b86d5-9744-43e4-b151-accaa9894dd7",
   "metadata": {
    "id": "828b86d5-9744-43e4-b151-accaa9894dd7",
    "jp-MarkdownHeadingCollapsed": true,
    "tags": []
   },
   "source": [
    "<h4>Spearman Correlation</h4>"
   ]
  },
  {
   "cell_type": "code",
   "execution_count": null,
   "id": "cae9c78d-a023-4e00-96c5-7a1aebc316a9",
   "metadata": {
    "id": "cae9c78d-a023-4e00-96c5-7a1aebc316a9",
    "outputId": "9caee81c-0528-437b-fc06-45fdce49bca0",
    "tags": []
   },
   "outputs": [
    {
     "name": "stdout",
     "output_type": "stream",
     "text": [
      "Spearman correlation between SHAP and LIME: 0.13939393939393938\n",
      "Spearman correlation between SHAP and permutation importance: 0.8060606060606059\n",
      "Spearman correlation between LIME and permutation importance: 0.07878787878787878\n"
     ]
    }
   ],
   "source": [
    "from scipy.stats import spearmanr\n",
    "\n",
    "# Compute Spearman correlation between SHAP and LIME importance\n",
    "spearman_corr_shap_lime, _ = spearmanr(mean_abs_shap_rf_common_sorted['Mean Absolute SHAP'], lime_importance_rf_common_sorted['Mean Absolute LIME Coefficient'])\n",
    "\n",
    "# Compute Spearman correlation between SHAP and permutation importance\n",
    "spearman_corr_shap_perm, _ = spearmanr(mean_abs_shap_rf_common_sorted['Mean Absolute SHAP'], perm_importance_rf_common_sorted['Importance'])\n",
    "\n",
    "# Compute Spearman correlation between LIME and permutation importance\n",
    "spearman_corr_lime_perm, _ = spearmanr(lime_importance_rf_common_sorted['Mean Absolute LIME Coefficient'], perm_importance_rf_common_sorted['Importance'])\n",
    "\n",
    "print(\"Spearman correlation between SHAP and LIME:\", spearman_corr_shap_lime)\n",
    "print(\"Spearman correlation between SHAP and permutation importance:\", spearman_corr_shap_perm)\n",
    "print(\"Spearman correlation between LIME and permutation importance:\", spearman_corr_lime_perm)\n"
   ]
  },
  {
   "cell_type": "markdown",
   "id": "3ef441a3-4e5a-4ed4-b7dc-873dbb84c710",
   "metadata": {
    "id": "3ef441a3-4e5a-4ed4-b7dc-873dbb84c710"
   },
   "source": [
    "  "
   ]
  },
  {
   "cell_type": "markdown",
   "id": "7f818cc4-2f69-404d-a1ab-e07ba151a60a",
   "metadata": {
    "id": "7f818cc4-2f69-404d-a1ab-e07ba151a60a"
   },
   "source": [
    "  "
   ]
  },
  {
   "cell_type": "markdown",
   "id": "7491385c-b6aa-42de-939c-064ebe4ed6b8",
   "metadata": {
    "id": "7491385c-b6aa-42de-939c-064ebe4ed6b8"
   },
   "source": [
    "   "
   ]
  },
  {
   "cell_type": "markdown",
   "id": "162682dc-08fa-414d-9cf7-1539a0f8ff00",
   "metadata": {
    "id": "162682dc-08fa-414d-9cf7-1539a0f8ff00",
    "tags": []
   },
   "source": [
    "<h2>XGBoost</h2>"
   ]
  },
  {
   "cell_type": "markdown",
   "id": "bbb619d5-7b22-4c92-8b03-fef188577429",
   "metadata": {
    "id": "bbb619d5-7b22-4c92-8b03-fef188577429",
    "jp-MarkdownHeadingCollapsed": true,
    "tags": []
   },
   "source": [
    "<h4>Model Training</h4>"
   ]
  },
  {
   "cell_type": "code",
   "execution_count": null,
   "id": "3b33a850-d58b-4627-9a70-142a12847c02",
   "metadata": {
    "id": "3b33a850-d58b-4627-9a70-142a12847c02",
    "tags": []
   },
   "outputs": [],
   "source": [
    "import xgboost as xgb\n",
    "from sklearn.preprocessing import LabelEncoder\n",
    "\n",
    "\n",
    "label_encoder = LabelEncoder()\n",
    "y_train_encoded = label_encoder.fit_transform(y_train)\n",
    "\n",
    "model_xgb = xgb.XGBClassifier()\n",
    "model_xgb.fit(X_train, y_train_encoded)\n",
    "y_pred_xgb = model_xgb.predict(X_test)"
   ]
  },
  {
   "cell_type": "markdown",
   "id": "4afeb573-f1b0-4656-911e-4e550a84537f",
   "metadata": {
    "id": "4afeb573-f1b0-4656-911e-4e550a84537f",
    "jp-MarkdownHeadingCollapsed": true,
    "tags": []
   },
   "source": [
    "<h4>Model Evaluation</h4>"
   ]
  },
  {
   "cell_type": "code",
   "execution_count": null,
   "id": "3b12c473-6842-4651-9cc3-da9d13bf76eb",
   "metadata": {
    "id": "3b12c473-6842-4651-9cc3-da9d13bf76eb",
    "outputId": "5061e37d-2d1f-4019-e365-61638bc88c37"
   },
   "outputs": [
    {
     "name": "stdout",
     "output_type": "stream",
     "text": [
      "Accuracy score:  0.7834144247281053\n",
      "Precision:  0.8063346854233192\n",
      "Recall score:  0.922674303772467\n",
      "F1: 0.8605904296964954\n"
     ]
    }
   ],
   "source": [
    "y_test_int = y_test.astype(int)\n",
    "y_pred_xgb_int = y_pred_xgb.astype(int)\n",
    "\n",
    "print(\"Accuracy score: \", accuracy_score(y_test_int, y_pred_xgb_int))\n",
    "print(\"Precision: \", precision_score(y_test_int, y_pred_xgb_int, pos_label=0))\n",
    "print(\"Recall score: \", recall_score(y_test_int, y_pred_xgb_int, pos_label=0))\n",
    "print('F1:', f1_score(y_test_int, y_pred_xgb_int, pos_label=0))"
   ]
  },
  {
   "cell_type": "markdown",
   "id": "719a601d-3f84-4420-b41a-394b06e7cd54",
   "metadata": {
    "id": "719a601d-3f84-4420-b41a-394b06e7cd54",
    "jp-MarkdownHeadingCollapsed": true,
    "tags": []
   },
   "source": [
    "<h4>Hyperparameter Tuning</h4>"
   ]
  },
  {
   "cell_type": "code",
   "execution_count": null,
   "id": "81f3417a-9fca-43bc-8fb3-621bbd4c3e7c",
   "metadata": {
    "id": "81f3417a-9fca-43bc-8fb3-621bbd4c3e7c",
    "outputId": "48000eaa-1af2-41aa-9849-a443017215a8"
   },
   "outputs": [
    {
     "name": "stdout",
     "output_type": "stream",
     "text": [
      "Fitting 5 folds for each of 100 candidates, totalling 500 fits\n",
      "Best hyperparameters: {'colsample_bytree': 0.6509954649327929, 'gamma': 0.19864364528018363, 'learning_rate': 0.08072953657795537, 'max_depth': 7, 'min_child_weight': 5, 'n_estimators': 146, 'reg_alpha': 0.4089551770854932, 'reg_lambda': 0.7718819805982451, 'scale_pos_weight': 1.1220307231804452, 'subsample': 0.8393770804820908}\n",
      "Accuracy of the best model: 0.7811247853463079\n"
     ]
    }
   ],
   "source": [
    "from sklearn.model_selection import RandomizedSearchCV\n",
    "from sklearn.preprocessing import LabelEncoder\n",
    "from scipy.stats import randint, uniform\n",
    "\n",
    "label_encoder = LabelEncoder()\n",
    "y_train_encoded = label_encoder.fit_transform(y_train)\n",
    "\n",
    "param_dist = {\n",
    "    'max_depth': randint(3, 10),\n",
    "    'learning_rate': uniform(0.001, 0.1),\n",
    "    'n_estimators': randint(100, 1000),\n",
    "    'min_child_weight': randint(1, 6),\n",
    "    'gamma': uniform(0, 0.5),\n",
    "    'subsample': uniform(0.6, 0.4),\n",
    "    'colsample_bytree': uniform(0.6, 0.4),\n",
    "    'reg_lambda': uniform(0, 1),\n",
    "    'reg_alpha': uniform(0, 1),\n",
    "    'scale_pos_weight': uniform(1, 10)\n",
    "}\n",
    "\n",
    "random_search = RandomizedSearchCV(estimator=model_xgb, param_distributions=param_dist,\n",
    "                                   n_iter=100, cv=5, n_jobs=-1, scoring='accuracy',\n",
    "                                   verbose=2, random_state=42)\n",
    "random_search.fit(X_train, y_train_encoded)\n",
    "\n",
    "best_params = random_search.best_params_\n",
    "print(\"Best hyperparameters:\", best_params)\n",
    "\n",
    "best_model = random_search.best_estimator_\n",
    "\n",
    "accuracy_best_model = best_model.score(X_test, label_encoder.transform(y_test))\n",
    "print(\"Accuracy of the best model:\", accuracy_best_model)"
   ]
  },
  {
   "cell_type": "markdown",
   "id": "98859f5a-c0a1-4983-9cd6-bdeb5c775430",
   "metadata": {
    "id": "98859f5a-c0a1-4983-9cd6-bdeb5c775430",
    "jp-MarkdownHeadingCollapsed": true,
    "tags": []
   },
   "source": [
    "<h4>Model Re-Training</h4>"
   ]
  },
  {
   "cell_type": "code",
   "execution_count": null,
   "id": "58e6b15d-0dbf-4421-a3b3-11153bff8394",
   "metadata": {
    "id": "58e6b15d-0dbf-4421-a3b3-11153bff8394",
    "tags": []
   },
   "outputs": [],
   "source": [
    "import xgboost\n",
    "\n",
    "best_params = {\n",
    "    'colsample_bytree': 0.6509954649327929,\n",
    "    'gamma': 0.19864364528018363,\n",
    "    'learning_rate': 0.08072953657795537,\n",
    "    'max_depth': 7,\n",
    "    'min_child_weight': 5,\n",
    "    'n_estimators': 146,\n",
    "    'reg_alpha': 0.4089551770854932,\n",
    "    'reg_lambda': 0.7718819805982451,\n",
    "    'scale_pos_weight': 1.1220307231804452,\n",
    "    'subsample': 0.8393770804820908\n",
    "}\n",
    "\n",
    "final_model = xgboost.XGBClassifier(**best_params)\n",
    "final_model.fit(X_train, y_train_encoded)\\\n",
    "\n",
    "y_true = y_test\n",
    "y_pred = final_model.predict(X_test)\n",
    "y_pred = y_pred.astype(str)"
   ]
  },
  {
   "cell_type": "markdown",
   "id": "32659efc-f712-47e8-ad30-f94711626460",
   "metadata": {
    "id": "32659efc-f712-47e8-ad30-f94711626460",
    "jp-MarkdownHeadingCollapsed": true,
    "tags": []
   },
   "source": [
    "<h4>New Model Evaluation</h4>"
   ]
  },
  {
   "cell_type": "code",
   "execution_count": null,
   "id": "12c1af51-1ea9-4db7-b0b9-077fa786f004",
   "metadata": {
    "id": "12c1af51-1ea9-4db7-b0b9-077fa786f004",
    "outputId": "e670e5f8-e172-43df-d9c8-c0a10767e58d",
    "tags": []
   },
   "outputs": [
    {
     "name": "stdout",
     "output_type": "stream",
     "text": [
      "Accuracy: 0.7811247853463079\n",
      "Precision: 0.807876622810839\n",
      "Recall: 0.9156626506024096\n",
      "F1-score: 0.8583992963940194\n"
     ]
    }
   ],
   "source": [
    "accuracy_xgb = accuracy_score(y_true, y_pred)\n",
    "precision_xgb = precision_score(y_true, y_pred, pos_label='0')\n",
    "recall_xgb = recall_score(y_true, y_pred, pos_label='0')\n",
    "f1_xgb = f1_score(y_true, y_pred, pos_label='0')\n",
    "\n",
    "# Print the performance metrics\n",
    "print(f'Accuracy: {accuracy_xgb}')\n",
    "print(f'Precision: {precision_xgb}')\n",
    "print(f'Recall: {recall_xgb}')\n",
    "print(f'F1-score: {f1_xgb}')"
   ]
  },
  {
   "cell_type": "markdown",
   "id": "f58dfd77-175b-4ec9-a8c3-0c187ca50ac7",
   "metadata": {
    "id": "f58dfd77-175b-4ec9-a8c3-0c187ca50ac7",
    "jp-MarkdownHeadingCollapsed": true,
    "tags": []
   },
   "source": [
    "<h4>Feature Importance</h4>"
   ]
  },
  {
   "cell_type": "code",
   "execution_count": null,
   "id": "0cbf4baa-4a1f-44a8-94dd-bf1b2122bc83",
   "metadata": {
    "id": "0cbf4baa-4a1f-44a8-94dd-bf1b2122bc83",
    "tags": []
   },
   "outputs": [],
   "source": [
    "#importance_xgb = model_xgb.feature_importances_\n",
    "#feature_names = X_train.columns\n",
    "#indices = np.argsort(importance_xgb)[::-1]\n",
    "#\n",
    "#print()\n",
    "#for i in indices:\n",
    "#    print(f\"{feature_names[i]}: {importance_xgb[i]}\")"
   ]
  },
  {
   "cell_type": "markdown",
   "id": "282a20d4-90f2-4cfe-96a9-8c4de09b9dcd",
   "metadata": {
    "id": "282a20d4-90f2-4cfe-96a9-8c4de09b9dcd",
    "jp-MarkdownHeadingCollapsed": true,
    "tags": []
   },
   "source": [
    "<h4>Feature Selection</h4>"
   ]
  },
  {
   "cell_type": "code",
   "execution_count": null,
   "id": "62babdc3-79df-42ea-8d6e-e04200f59cae",
   "metadata": {
    "id": "62babdc3-79df-42ea-8d6e-e04200f59cae",
    "tags": []
   },
   "outputs": [],
   "source": [
    "#selector_xgb = RFE(estimator=model_xgb, n_features_to_select=None, step=1)\n",
    "#X_train_selected_xgb = selector_xgb.fit_transform(X_train, y_train_encoded)\n",
    "#model_xgb.fit(X_train_selected_xgb, y_train_encoded)\n",
    "#\n",
    "#X_test_selected_xgb = selector_xgb.transform(X_test)\n",
    "#y_pred_xgb = model_xgb.predict(X_test_selected_xgb)\n",
    "#\n",
    "#print(\"Number of selected features:\", selector_xgb.n_features_)\n",
    "#print(\"Selected Features:\", selector_xgb.support_)"
   ]
  },
  {
   "cell_type": "markdown",
   "id": "b5bbfa63-8d84-4eda-9646-12ec9e6c7f62",
   "metadata": {
    "id": "b5bbfa63-8d84-4eda-9646-12ec9e6c7f62",
    "jp-MarkdownHeadingCollapsed": true,
    "tags": []
   },
   "source": [
    "<h4>SHAP</h4>"
   ]
  },
  {
   "cell_type": "code",
   "execution_count": null,
   "id": "068f980f-e2a7-4d20-b9a5-41423df4354a",
   "metadata": {
    "id": "068f980f-e2a7-4d20-b9a5-41423df4354a",
    "outputId": "25c95a6a-e182-4811-cecd-3dc5a29b120c",
    "tags": []
   },
   "outputs": [
    {
     "name": "stderr",
     "output_type": "stream",
     "text": [
      " 97%|=================== | 13527/13976 [00:29<00:00]       "
     ]
    },
    {
     "name": "stdout",
     "output_type": "stream",
     "text": [
      "                           Feature  Mean Absolute SHAP\n",
      "12     required_car_parking_spaces            1.448592\n",
      "0                        lead_time            0.479617\n",
      "13       total_of_special_requests            0.383692\n",
      "11                             adr            0.308048\n",
      "9                  booking_changes            0.223735\n",
      "8   previous_bookings_not_canceled            0.170238\n",
      "1                arrival_date_year            0.133986\n",
      "7           previous_cancellations            0.128432\n",
      "3             stays_in_week_nights            0.079022\n",
      "4                           adults            0.058926\n"
     ]
    }
   ],
   "source": [
    "import shap\n",
    "\n",
    "explainer_xgb = shap.Explainer(model_xgb, X_train)\n",
    "shap_values_xgb = explainer_xgb.shap_values(X_test)\n",
    "\n",
    "mean_abs_shap_xgb = np.mean(np.abs(shap_values_xgb), axis=0)\n",
    "mean_abs_shap_xgb_df = pd.DataFrame({'Feature': X_train.columns, 'Mean Absolute SHAP': mean_abs_shap_xgb})\n",
    "mean_abs_shap_xgb_df = mean_abs_shap_xgb_df.sort_values(by='Mean Absolute SHAP', ascending=False)\n",
    "\n",
    "print(mean_abs_shap_xgb_df.head(10))"
   ]
  },
  {
   "cell_type": "code",
   "execution_count": null,
   "id": "efff6231-ea89-4244-b7f4-cdec640a67b2",
   "metadata": {
    "id": "efff6231-ea89-4244-b7f4-cdec640a67b2"
   },
   "outputs": [],
   "source": [
    "#import shap\n",
    "#\n",
    "#model_xgb = xgb.XGBClassifier()\n",
    "#model_xgb.fit(X_train_selected_xgb, y_train_encoded)\n",
    "#\n",
    "#explainer_xgb = shap.Explainer(model_xgb)\n",
    "#shap_values_xgb = explainer_xgb.shap_values(X_test_selected_xgb)\n",
    "#\n",
    "#shap_importance = np.abs(shap_values_xgb).mean(0)\n",
    "#shap_importance_df = pd.DataFrame({'Feature': feature_names[selector_xgb.support_], 'Importance': shap_importance})\n",
    "#\n",
    "#shap_importance_df = shap_importance_df.sort_values(by='Importance', ascending=False)\n",
    "#\n",
    "#shap.summary_plot(shap_values_xgb, X_test_selected_xgb)"
   ]
  },
  {
   "cell_type": "markdown",
   "id": "b570f359-d543-494f-988f-df9532d9ac40",
   "metadata": {
    "id": "b570f359-d543-494f-988f-df9532d9ac40",
    "jp-MarkdownHeadingCollapsed": true,
    "tags": []
   },
   "source": [
    "<h4>LIME</h4>"
   ]
  },
  {
   "cell_type": "code",
   "execution_count": null,
   "id": "f8f7fe55-1002-46f8-99b9-ea2d1670ce1d",
   "metadata": {
    "id": "f8f7fe55-1002-46f8-99b9-ea2d1670ce1d",
    "outputId": "ce6557a2-eff5-4844-c0c2-68f3efb28b73",
    "tags": []
   },
   "outputs": [
    {
     "name": "stdout",
     "output_type": "stream",
     "text": [
      "                          Feature  Mean Absolute LIME Coefficient\n",
      "0          previous_cancellations                        0.477778\n",
      "1     required_car_parking_spaces                        0.278374\n",
      "2  previous_bookings_not_canceled                        0.200780\n",
      "3                       lead_time                        0.198675\n",
      "4            days_in_waiting_list                        0.175583\n",
      "5                 booking_changes                        0.124594\n",
      "6                          adults                        0.037161\n",
      "7                        children                        0.020850\n"
     ]
    }
   ],
   "source": [
    "from lime.lime_tabular import LimeTabularExplainer\n",
    "import pandas as pd\n",
    "\n",
    "# Ensure that X_train and X_test have proper feature names\n",
    "feature_names = X_train.columns.tolist()\n",
    "X_train.columns = feature_names\n",
    "X_test.columns = feature_names\n",
    "\n",
    "# Define a wrapper for the predict_proba method of the XGBoost model\n",
    "def xgb_predict_proba(X):\n",
    "    return model_xgb.predict_proba(X)\n",
    "\n",
    "# Initialize the LIME explainer without discretizing continuous features\n",
    "explainer_lime_xgb = LimeTabularExplainer(\n",
    "    X_train.values,\n",
    "    feature_names=feature_names,\n",
    "    class_names=label_encoder.classes_,\n",
    "    discretize_continuous=True,\n",
    "    random_state=42\n",
    ")\n",
    "\n",
    "# Explain the first instance in the test set\n",
    "exp_xgb = explainer_lime_xgb.explain_instance(X_test.values[0], xgb_predict_proba, num_features=10)\n",
    "\n",
    "# Process the list of features and coefficients, filtering out non-feature values\n",
    "exp_list_xgb = exp_xgb.as_list()\n",
    "lime_features_xgb = [f.split(' ')[0] for f, _ in exp_list_xgb if f.split(' ')[0] != '-0.31' and f.split(' ')[0] != '-0.62']\n",
    "lime_coefficients_xgb = [c for f, c in exp_list_xgb if f.split(' ')[0] != '-0.31' and f.split(' ')[0] != '-0.62']\n",
    "\n",
    "# Create the DataFrame with valid features\n",
    "lime_importance_df_xgb = pd.DataFrame({'Feature': lime_features_xgb})\n",
    "lime_importance_df_xgb['Mean Absolute LIME Coefficient'] = np.abs(lime_coefficients_xgb)\n",
    "\n",
    "print(lime_importance_df_xgb.head(10))\n"
   ]
  },
  {
   "cell_type": "code",
   "execution_count": null,
   "id": "4e844f12-2ac8-4074-a168-55bf29fe5caa",
   "metadata": {
    "id": "4e844f12-2ac8-4074-a168-55bf29fe5caa"
   },
   "outputs": [],
   "source": [
    "#explainer_lime_xgb = lime.lime_tabular.LimeTabularExplainer(X_train_selected_xgb,\n",
    "#                                                            mode=\"classification\",\n",
    "#                                                            feature_names=feature_names[selector_xgb.support_],\n",
    "#                                                            class_names=['Not Cancelled', 'Cancelled'])\n",
    "#\n",
    "#observation_idx = 0\n",
    "#exp_xgb = explainer_lime_xgb.explain_instance(X_test_selected_xgb[observation_idx],\n",
    "#                                              model_xgb.predict_proba,\n",
    "#                                              num_features=10)\n",
    "#\n",
    "#exp_xgb.show_in_notebook(show_table=True)"
   ]
  },
  {
   "cell_type": "markdown",
   "id": "c3f4c51d-2251-49a1-ab88-9e7c77ce6800",
   "metadata": {
    "id": "c3f4c51d-2251-49a1-ab88-9e7c77ce6800",
    "jp-MarkdownHeadingCollapsed": true,
    "tags": []
   },
   "source": [
    "<h4>Permutation Importance</h4>"
   ]
  },
  {
   "cell_type": "code",
   "execution_count": null,
   "id": "96e2dc01-f27d-4a6d-8590-82f78f1884d4",
   "metadata": {
    "id": "96e2dc01-f27d-4a6d-8590-82f78f1884d4",
    "outputId": "37d3e32c-0539-4192-c867-c54dfd2cd940",
    "tags": []
   },
   "outputs": [
    {
     "name": "stdout",
     "output_type": "stream",
     "text": [
      "                           Feature  Importance\n",
      "13       total_of_special_requests    0.048459\n",
      "0                        lead_time    0.042392\n",
      "11                             adr    0.041151\n",
      "7           previous_cancellations    0.016338\n",
      "9                  booking_changes    0.012743\n",
      "12     required_car_parking_spaces    0.011369\n",
      "1                arrival_date_year    0.010642\n",
      "3             stays_in_week_nights    0.006189\n",
      "4                           adults    0.003396\n",
      "8   previous_bookings_not_canceled    0.002869\n"
     ]
    }
   ],
   "source": [
    "from sklearn.preprocessing import LabelEncoder\n",
    "\n",
    "y_test_encoded = label_encoder.transform(y_test)\n",
    "\n",
    "perm_importance_xgb = permutation_importance(model_xgb, X_test, y_test_encoded, n_repeats=30, random_state=42)\n",
    "perm_importance_df_xgb = pd.DataFrame({'Feature': X_train.columns, 'Importance': perm_importance_xgb.importances_mean})\n",
    "perm_importance_df_xgb = perm_importance_df_xgb.sort_values(by='Importance', ascending=False)\n",
    "\n",
    "print(perm_importance_df_xgb.head(10))"
   ]
  },
  {
   "cell_type": "code",
   "execution_count": null,
   "id": "fbcda3d5-4c1c-436e-a070-26bfb51deaab",
   "metadata": {
    "id": "fbcda3d5-4c1c-436e-a070-26bfb51deaab",
    "tags": []
   },
   "outputs": [],
   "source": [
    "#from sklearn.preprocessing import LabelEncoder\n",
    "#\n",
    "#y_test_encoded = label_encoder.transform(y_test)\n",
    "#\n",
    "#model_xgb = xgb.XGBClassifier()\n",
    "#model_xgb.fit(X_train_selected_xgb, y_train_encoded)\n",
    "#\n",
    "#perm_importance = permutation_importance(model_xgb, X_test_selected_xgb, y_test_encoded, n_repeats=30, random_state=42)\n",
    "#sorted_idx = perm_importance.importances_mean.argsort()\n",
    "#\n",
    "#plt.figure(figsize=(10, 8))\n",
    "#plt.barh(X.columns[sorted_idx], perm_importance.importances_mean[sorted_idx])\n",
    "#plt.xlabel(\"Permutation Importance\")\n",
    "#plt.title(\"Permutation Importance (test set)\")\n",
    "#plt.show()"
   ]
  },
  {
   "cell_type": "markdown",
   "id": "cc7b35b7-3099-4757-926f-be2b43da57fe",
   "metadata": {
    "id": "cc7b35b7-3099-4757-926f-be2b43da57fe",
    "jp-MarkdownHeadingCollapsed": true,
    "tags": []
   },
   "source": [
    "<h4>Jaccard Similarity</h4>"
   ]
  },
  {
   "cell_type": "code",
   "execution_count": null,
   "id": "932292f8-1217-4fe3-b826-d0b6aba538fe",
   "metadata": {
    "id": "932292f8-1217-4fe3-b826-d0b6aba538fe",
    "outputId": "ceec4b62-f0ea-4220-e2ae-307b407eabfb",
    "tags": []
   },
   "outputs": [
    {
     "name": "stdout",
     "output_type": "stream",
     "text": [
      "Jaccard similarity between SHAP and LIME: 0.5\n",
      "Jaccard similarity between SHAP and permutation importance: 1.0\n",
      "Jaccard similarity between LIME and permutation importance: 0.5\n"
     ]
    }
   ],
   "source": [
    "shap_features = set(mean_abs_shap_xgb_df['Feature'].head(10))\n",
    "lime_features = set(lime_importance_df_xgb['Feature'].head(10))\n",
    "perm_features = set(perm_importance_df_xgb['Feature'].head(10))\n",
    "\n",
    "jaccard_shap_lime = len(shap_features.intersection(lime_features)) / len(shap_features.union(lime_features))\n",
    "jaccard_shap_perm = len(shap_features.intersection(perm_features)) / len(shap_features.union(perm_features))\n",
    "jaccard_lime_perm = len(lime_features.intersection(perm_features)) / len(lime_features.union(perm_features))\n",
    "\n",
    "print(\"Jaccard similarity between SHAP and LIME:\", jaccard_shap_lime)\n",
    "print(\"Jaccard similarity between SHAP and permutation importance:\", jaccard_shap_perm)\n",
    "print(\"Jaccard similarity between LIME and permutation importance:\", jaccard_lime_perm)\n"
   ]
  },
  {
   "cell_type": "code",
   "execution_count": null,
   "id": "db01a057-9375-4022-bd0c-f83717d9c08f",
   "metadata": {
    "id": "db01a057-9375-4022-bd0c-f83717d9c08f",
    "tags": []
   },
   "outputs": [],
   "source": [
    "#top_shap_features_x = set(shap_importance_df['Feature'][-10:])\n",
    "#\n",
    "#top_lime_features_x = [f[0] for f in exp_subset.as_list()]\n",
    "#top_lime_features_formatted_x = set([feature.split(' ')[0] for feature in top_lime_features_x])\n",
    "#\n",
    "#top_permutation_features_x = set(perm_importance_df['Feature'][:10])\n",
    "#\n",
    "#shap_lime_x = len(top_shap_features_x.intersection(top_lime_features_formatted_x)) / len(top_shap_features_x.union(top_lime_features_formatted_x))\n",
    "#shap_perm_x = len(top_shap_features_x.intersection(top_permutation_features_x)) / len(top_shap_features_x.union(top_permutation_features_x))\n",
    "#lime_perm_x = len(top_lime_features_formatted_x.intersection(top_permutation_features_x)) / len(top_lime_features_formatted_x.union(top_permutation_features_x))\n",
    "#\n",
    "#print(\"SHAP:\")\n",
    "#print(top_shap_features_x)\n",
    "#print(\"\\nLIME:\")\n",
    "#print(top_lime_features_formatted_x)\n",
    "#print(\"\\nPermutation Importance:\")\n",
    "#print(top_permutation_features_x)"
   ]
  },
  {
   "cell_type": "code",
   "execution_count": null,
   "id": "720d2e8f-5009-43f8-8539-b083a6a26dd7",
   "metadata": {
    "id": "720d2e8f-5009-43f8-8539-b083a6a26dd7",
    "tags": []
   },
   "outputs": [],
   "source": [
    "#print(\"\\nJaccard Similarity:\")\n",
    "#print(f\"SHAP vs LIME: {shap_lime_x}\")\n",
    "#print(f\"SHAP vs Permutation Importance: {shap_perm_x}\")\n",
    "#print(f\"LIME vs Permutation Importance: {lime_perm_x}\")"
   ]
  },
  {
   "cell_type": "markdown",
   "id": "b47714ef-2bb3-43dc-97ed-43d6496fc0e0",
   "metadata": {
    "id": "b47714ef-2bb3-43dc-97ed-43d6496fc0e0",
    "tags": []
   },
   "source": [
    "<h4>Spearman Correlation</h4>"
   ]
  },
  {
   "cell_type": "code",
   "execution_count": null,
   "id": "3694f145-28ab-4bd8-9930-c94d551f1f9a",
   "metadata": {
    "id": "3694f145-28ab-4bd8-9930-c94d551f1f9a",
    "outputId": "44e07cdb-8dca-477c-b6fa-756e1eed5116",
    "tags": []
   },
   "outputs": [
    {
     "name": "stdout",
     "output_type": "stream",
     "text": [
      "Spearman correlation between SHAP and LIME: 0.29145123129731176\n",
      "Spearman correlation between SHAP and permutation importance: 0.8561797752808988\n",
      "Spearman correlation between LIME and permutation importance: 0.129533880576583\n"
     ]
    }
   ],
   "source": [
    "from scipy.stats import spearmanr\n",
    "\n",
    "top_n = 10\n",
    "\n",
    "shap_features = mean_abs_shap_xgb_df['Feature'].head(top_n)\n",
    "shap_ranking = {feature: rank for rank, feature in enumerate(shap_features, start=1)}\n",
    "\n",
    "lime_features = lime_importance_df_xgb['Feature'].head(top_n)\n",
    "lime_ranking = {feature: rank for rank, feature in enumerate(lime_features, start=1)}\n",
    "\n",
    "perm_features = perm_importance_df_xgb['Feature'].head(top_n)\n",
    "perm_ranking = {feature: rank for rank, feature in enumerate(perm_features, start=1)}\n",
    "\n",
    "shap_ranked_list = [shap_ranking.get(feature, float('inf')) for feature in X_train.columns]\n",
    "lime_ranked_list = [lime_ranking.get(feature, float('inf')) for feature in X_train.columns]\n",
    "perm_ranked_list = [perm_ranking.get(feature, float('inf')) for feature in X_train.columns]\n",
    "\n",
    "spearman_corr_shap_lime, _ = spearmanr(shap_ranked_list, lime_ranked_list)\n",
    "spearman_corr_shap_perm, _ = spearmanr(shap_ranked_list, perm_ranked_list)\n",
    "spearman_corr_lime_perm, _ = spearmanr(lime_ranked_list, perm_ranked_list)\n",
    "\n",
    "print(\"Spearman correlation between SHAP and LIME:\", spearman_corr_shap_lime)\n",
    "print(\"Spearman correlation between SHAP and permutation importance:\", spearman_corr_shap_perm)\n",
    "print(\"Spearman correlation between LIME and permutation importance:\", spearman_corr_lime_perm)"
   ]
  },
  {
   "cell_type": "markdown",
   "id": "522bf010-b707-47d9-860f-c3f7eef47a92",
   "metadata": {
    "id": "522bf010-b707-47d9-860f-c3f7eef47a92"
   },
   "source": [
    "   "
   ]
  },
  {
   "cell_type": "markdown",
   "id": "9358aad3-f1f6-4190-a283-fdc6f215cb79",
   "metadata": {
    "id": "9358aad3-f1f6-4190-a283-fdc6f215cb79"
   },
   "source": [
    "   "
   ]
  },
  {
   "cell_type": "markdown",
   "id": "3b32cc84-53f5-43d6-bd76-d46ef33af6e6",
   "metadata": {
    "id": "3b32cc84-53f5-43d6-bd76-d46ef33af6e6"
   },
   "source": [
    "   "
   ]
  },
  {
   "cell_type": "markdown",
   "id": "1ce4b007-dcca-4421-b87b-3f8c5c2bcf2e",
   "metadata": {
    "id": "1ce4b007-dcca-4421-b87b-3f8c5c2bcf2e",
    "tags": []
   },
   "source": [
    "<h2>Model Comparison</h2>"
   ]
  },
  {
   "cell_type": "code",
   "execution_count": null,
   "id": "70b14b6c-c688-4a96-967a-e22e9e297450",
   "metadata": {
    "id": "70b14b6c-c688-4a96-967a-e22e9e297450",
    "outputId": "5dbf5d80-8f78-4867-f6d9-8fc6896b99cf"
   },
   "outputs": [
    {
     "name": "stdout",
     "output_type": "stream",
     "text": [
      "                     Accuracy  Precision    Recall  F1-score\n",
      "Model                                                       \n",
      "Random Forest        0.784416   0.801271  0.934130  0.862615\n",
      "XGB                  0.781125   0.807877  0.915663  0.858399\n",
      "Logistic Regression  0.751002   0.762397  0.953486  0.847301\n"
     ]
    }
   ],
   "source": [
    "models = {\n",
    "    'Model': ['Random Forest', 'XGB', 'Logistic Regression'],\n",
    "    'Accuracy': [accuracy_rf1,\n",
    "                 accuracy_xgb,\n",
    "                 accuracy_lr1],\n",
    "    'Precision': [precision_rf1,\n",
    "                  precision_xgb,\n",
    "                  precision_lr1],\n",
    "    'Recall': [recall_rf1,\n",
    "               recall_xgb,\n",
    "               recall_lr1],\n",
    "    'F1-score': [f1_rf1,\n",
    "                 f1_xgb,\n",
    "                 f1_lr1],\n",
    "}\n",
    "\n",
    "comparison = pd.DataFrame(models)\n",
    "comparison.set_index('Model', inplace=True)\n",
    "\n",
    "print(comparison)"
   ]
  },
  {
   "cell_type": "code",
   "execution_count": null,
   "id": "55186f6d-1d38-4008-849f-3fc1b982f795",
   "metadata": {
    "id": "55186f6d-1d38-4008-849f-3fc1b982f795",
    "outputId": "309ecb63-6db5-469d-aa3e-a828a843049e",
    "tags": []
   },
   "outputs": [
    {
     "data": {
      "image/png": "[encoded data removed]",
      "text/plain": [
       "<Figure size 640x480 with 2 Axes>"
      ]
     },
     "metadata": {},
     "output_type": "display_data"
    },
    {
     "data": {
      "image/png": "[encoded data removed]",
      "text/plain": [
       "<Figure size 640x480 with 2 Axes>"
      ]
     },
     "metadata": {},
     "output_type": "display_data"
    },
    {
     "data": {
      "image/png": "[encoded data removed]",
      "text/plain": [
       "<Figure size 640x480 with 2 Axes>"
      ]
     },
     "metadata": {},
     "output_type": "display_data"
    }
   ],
   "source": [
    "from sklearn.metrics import confusion_matrix, ConfusionMatrixDisplay\n",
    "\n",
    "conf_matrix_rf = confusion_matrix(y_test, y_pred_rf)\n",
    "conf_matrix_xgb = confusion_matrix(y_test_int, y_pred_xgb_int)\n",
    "conf_matrix_lr = confusion_matrix(y_test, y_pred_lr)\n",
    "\n",
    "#Random Forest\n",
    "disp_rf = ConfusionMatrixDisplay(confusion_matrix=conf_matrix_rf, display_labels=['Class 0', 'Class 1'])\n",
    "disp_rf.plot(cmap='Blues', values_format='d')\n",
    "plt.xlabel('Predicted')\n",
    "plt.ylabel('True')\n",
    "plt.show()\n",
    "\n",
    "#XGB\n",
    "disp_xgb = ConfusionMatrixDisplay(confusion_matrix=conf_matrix_xgb, display_labels=['Class 0', 'Class 1'])\n",
    "disp_xgb.plot(cmap='Blues', values_format='d')\n",
    "plt.xlabel('Predicted')\n",
    "plt.ylabel('True')\n",
    "plt.show()\n",
    "\n",
    "#Logistic Regression\n",
    "disp_lr = ConfusionMatrixDisplay(confusion_matrix=conf_matrix_lr, display_labels=['Class 0', 'Class 1'])\n",
    "disp_lr.plot(cmap='Blues', values_format='d')\n",
    "plt.xlabel('Predicted')\n",
    "plt.ylabel('True')\n",
    "plt.show()\n"
   ]
  },
  {
   "cell_type": "code",
   "execution_count": null,
   "id": "e0df3e5f-ae0f-4a0b-abed-aee10b61dc88",
   "metadata": {
    "id": "e0df3e5f-ae0f-4a0b-abed-aee10b61dc88",
    "outputId": "d3a785fa-30e0-46da-e6ed-904e121d34f0",
    "tags": []
   },
   "outputs": [
    {
     "name": "stdout",
     "output_type": "stream",
     "text": [
      "Random Forest - Correctly Classified Instances: Class 0: 9026 Class 1: 1689\n",
      "Random Forest - Incorrectly Classified Instances: Class 0: 1100 Class 1: 2161\n",
      "XGB - Correctly Classified Instances: Class 0: 9343 Class 1: 1606\n",
      "XGB - Incorrectly Classified Instances: Class 0: 783 Class 1: 2244\n",
      "Logistic Regression - Correctly Classified Instances: Class 0: 9655 Class 1: 841\n",
      "Logistic Regression - Incorrectly Classified Instances: Class 0: 471 Class 1: 3009\n"
     ]
    },
    {
     "name": "stderr",
     "output_type": "stream",
     "text": [
      "Series.__getitem__ treating keys as positions is deprecated. In a future version, integer keys will always be treated as labels (consistent with DataFrame behavior). To access a value by position, use `ser.iloc[pos]`\n",
      "Series.__getitem__ treating keys as positions is deprecated. In a future version, integer keys will always be treated as labels (consistent with DataFrame behavior). To access a value by position, use `ser.iloc[pos]`\n",
      "Series.__getitem__ treating keys as positions is deprecated. In a future version, integer keys will always be treated as labels (consistent with DataFrame behavior). To access a value by position, use `ser.iloc[pos]`\n",
      "Series.__getitem__ treating keys as positions is deprecated. In a future version, integer keys will always be treated as labels (consistent with DataFrame behavior). To access a value by position, use `ser.iloc[pos]`\n"
     ]
    }
   ],
   "source": [
    "import pandas as pd\n",
    "\n",
    "# Assuming y_test, y_pred_rf, y_pred_xgb_int, and y_pred_lr are defined elsewhere\n",
    "# Also assuming the original test features are in X_test and X_test_int (if different for XGB)\n",
    "\n",
    "# Convert y_test and predictions to DataFrame for easier manipulation\n",
    "results_rf = pd.DataFrame({\n",
    "    'True Label': y_test,\n",
    "    'Predicted Label': y_pred_rf\n",
    "})\n",
    "results_xgb = pd.DataFrame({\n",
    "    'True Label': y_test_int,  # Assuming y_test_int is used for XGB\n",
    "    'Predicted Label': y_pred_xgb_int\n",
    "})\n",
    "results_lr = pd.DataFrame({\n",
    "    'True Label': y_test,\n",
    "    'Predicted Label': y_pred_lr\n",
    "})\n",
    "\n",
    "# Identify correctly and incorrectly classified instances for Random Forest\n",
    "correct_rf = results_rf[results_rf['True Label'] == results_rf['Predicted Label']]\n",
    "incorrect_rf = results_rf[results_rf['True Label'] != results_rf['Predicted Label']]\n",
    "\n",
    "# Identify correctly and incorrectly classified instances for XGB\n",
    "correct_xgb = results_xgb[results_xgb['True Label'] == results_xgb['Predicted Label']]\n",
    "incorrect_xgb = results_xgb[results_xgb['True Label'] != results_xgb['Predicted Label']]\n",
    "\n",
    "# Identify correctly and incorrectly classified instances for Logistic Regression\n",
    "correct_lr = results_lr[results_lr['True Label'] == results_lr['Predicted Label']]\n",
    "incorrect_lr = results_lr[results_lr['True Label'] != results_lr['Predicted Label']]\n",
    "\n",
    "# Count the number of correct and incorrect classifications for each class\n",
    "def count_classes(df):\n",
    "    class_counts = df['True Label'].value_counts().sort_index()\n",
    "    return class_counts.get(0, 0), class_counts.get(1, 0)\n",
    "\n",
    "correct_rf_0, correct_rf_1 = count_classes(correct_rf)\n",
    "incorrect_rf_0, incorrect_rf_1 = count_classes(incorrect_rf)\n",
    "\n",
    "correct_xgb_0, correct_xgb_1 = count_classes(correct_xgb)\n",
    "incorrect_xgb_0, incorrect_xgb_1 = count_classes(incorrect_xgb)\n",
    "\n",
    "correct_lr_0, correct_lr_1 = count_classes(correct_lr)\n",
    "incorrect_lr_0, incorrect_lr_1 = count_classes(incorrect_lr)\n",
    "\n",
    "# Print the results\n",
    "print(\"Random Forest - Correctly Classified Instances: Class 0:\", correct_rf_0, \"Class 1:\", correct_rf_1)\n",
    "print(\"Random Forest - Incorrectly Classified Instances: Class 0:\", incorrect_rf_0, \"Class 1:\", incorrect_rf_1)\n",
    "\n",
    "print(\"XGB - Correctly Classified Instances: Class 0:\", correct_xgb_0, \"Class 1:\", correct_xgb_1)\n",
    "print(\"XGB - Incorrectly Classified Instances: Class 0:\", incorrect_xgb_0, \"Class 1:\", incorrect_xgb_1)\n",
    "\n",
    "print(\"Logistic Regression - Correctly Classified Instances: Class 0:\", correct_lr_0, \"Class 1:\", correct_lr_1)\n",
    "print(\"Logistic Regression - Incorrectly Classified Instances: Class 0:\", incorrect_lr_0, \"Class 1:\", incorrect_lr_1)\n"
   ]
  },
  {
   "cell_type": "markdown",
   "id": "1d2eadd2-f4a4-4939-a65f-7ef7eb1c0c59",
   "metadata": {
    "id": "1d2eadd2-f4a4-4939-a65f-7ef7eb1c0c59"
   },
   "source": [
    "  "
   ]
  },
  {
   "cell_type": "markdown",
   "id": "59888bfa-fb2b-4d16-8aa0-3803787101ad",
   "metadata": {
    "id": "59888bfa-fb2b-4d16-8aa0-3803787101ad"
   },
   "source": [
    "  "
   ]
  },
  {
   "cell_type": "markdown",
   "id": "ae87cfb0-fc13-4486-8cd6-d1f4cb06d596",
   "metadata": {
    "id": "ae87cfb0-fc13-4486-8cd6-d1f4cb06d596"
   },
   "source": []
  },
  {
   "cell_type": "markdown",
   "id": "6d48325f-41a6-43c8-9736-f3b23843da41",
   "metadata": {
    "id": "6d48325f-41a6-43c8-9736-f3b23843da41",
    "tags": []
   },
   "source": [
    "<h2>Error Analysis</h2>"
   ]
  },
  {
   "cell_type": "markdown",
   "id": "5634031f-7997-4e94-998d-83b5c1767c2a",
   "metadata": {
    "id": "5634031f-7997-4e94-998d-83b5c1767c2a",
    "tags": []
   },
   "source": [
    "<h3>Logistic Regression</h3>"
   ]
  },
  {
   "cell_type": "markdown",
   "id": "5a85273f-6935-49dd-8ec8-403d7e0402aa",
   "metadata": {
    "id": "5a85273f-6935-49dd-8ec8-403d7e0402aa",
    "jp-MarkdownHeadingCollapsed": true,
    "tags": []
   },
   "source": [
    "<h4>Confusion Matrix</h4>"
   ]
  },
  {
   "cell_type": "code",
   "execution_count": null,
   "id": "210f1c1c-424c-4002-af33-5a74f130e080",
   "metadata": {
    "id": "210f1c1c-424c-4002-af33-5a74f130e080",
    "outputId": "1cc530dc-6bc7-404d-eaf3-b20f6c4d4f43"
   },
   "outputs": [
    {
     "name": "stdout",
     "output_type": "stream",
     "text": [
      "Confusion Matrix:\n",
      "[[9272  854]\n",
      " [2205 1645]]\n"
     ]
    },
    {
     "data": {
      "image/png": "[encoded data removed]",
      "text/plain": [
       "<Figure size 640x480 with 2 Axes>"
      ]
     },
     "metadata": {},
     "output_type": "display_data"
    }
   ],
   "source": [
    "from sklearn.metrics import confusion_matrix, ConfusionMatrixDisplay\n",
    "\n",
    "conf_matrix_lr = confusion_matrix(y_test, y_pred)\n",
    "print(\"Confusion Matrix:\")\n",
    "print(conf_matrix_lr)\n",
    "\n",
    "import matplotlib.pyplot as plt\n",
    "\n",
    "disp = ConfusionMatrixDisplay(confusion_matrix=conf_matrix_lr, display_labels=['Class 0', 'Class 1'])\n",
    "disp.plot(cmap='Blues', values_format='d')\n",
    "plt.xlabel('Predicted')\n",
    "plt.ylabel('True')\n",
    "plt.title('Confusion Matrix')\n",
    "plt.show()\n"
   ]
  },
  {
   "cell_type": "markdown",
   "id": "18e61e02-59ba-49a6-8f38-4bff3898c7c1",
   "metadata": {
    "id": "18e61e02-59ba-49a6-8f38-4bff3898c7c1",
    "tags": []
   },
   "source": [
    "<h4>Error Types</h4>"
   ]
  },
  {
   "cell_type": "code",
   "execution_count": null,
   "id": "7f985052-f2eb-444e-b689-856cf25877b7",
   "metadata": {
    "id": "7f985052-f2eb-444e-b689-856cf25877b7",
    "outputId": "bf0b367c-57d1-4fa2-ebb1-c3348395009b"
   },
   "outputs": [
    {
     "name": "stdout",
     "output_type": "stream",
     "text": [
      "\n",
      "False Positives: 471\n",
      "False Negatives: 3009\n"
     ]
    }
   ],
   "source": [
    "false_positives = conf_matrix_lr[0][1]\n",
    "false_negatives = conf_matrix_lr[1][0]\n",
    "print(\"\\nFalse Positives:\", false_positives)\n",
    "print(\"False Negatives:\", false_negatives)"
   ]
  },
  {
   "cell_type": "markdown",
   "id": "3e92a68e-613b-4191-bdab-0f6d07c416a7",
   "metadata": {
    "id": "3e92a68e-613b-4191-bdab-0f6d07c416a7",
    "tags": []
   },
   "source": [
    "<h4>Misclassified Samples</h4>"
   ]
  },
  {
   "cell_type": "code",
   "execution_count": null,
   "id": "2f7c13b9-b07d-4216-951e-6e9fee6cf644",
   "metadata": {
    "id": "2f7c13b9-b07d-4216-951e-6e9fee6cf644",
    "outputId": "b3df840d-aa41-4074-a243-896668d1b009"
   },
   "outputs": [
    {
     "name": "stdout",
     "output_type": "stream",
     "text": [
      "True label: 0, Predicted label: 1\n",
      "Features:\n",
      "lead_time                         1.131163\n",
      "arrival_date_year                 1.152019\n",
      "stays_in_weekend_nights          -0.973501\n",
      "stays_in_week_nights              0.662154\n",
      "adults                            0.193586\n",
      "children                         -0.304531\n",
      "babies                           -0.098787\n",
      "previous_cancellations           -0.084928\n",
      "previous_bookings_not_canceled   -0.105581\n",
      "booking_changes                  -0.371058\n",
      "days_in_waiting_list             -0.074710\n",
      "adr                               0.274757\n",
      "required_car_parking_spaces      -0.300011\n",
      "total_of_special_requests        -0.840621\n",
      "Name: 61086, dtype: float64\n",
      "-------------------------\n",
      "True label: 0, Predicted label: 1\n",
      "Features:\n",
      "lead_time                         0.188331\n",
      "arrival_date_year                 1.152019\n",
      "stays_in_weekend_nights           0.958626\n",
      "stays_in_week_nights             -0.305724\n",
      "adults                            0.193586\n",
      "children                         -0.304531\n",
      "babies                           -0.098787\n",
      "previous_cancellations           -0.084928\n",
      "previous_bookings_not_canceled   -0.105581\n",
      "booking_changes                  -0.371058\n",
      "days_in_waiting_list             -0.074710\n",
      "adr                              -0.133963\n",
      "required_car_parking_spaces      -0.300011\n",
      "total_of_special_requests        -0.840621\n",
      "Name: 45198, dtype: float64\n",
      "-------------------------\n",
      "True label: 1, Predicted label: 0\n",
      "Features:\n",
      "lead_time                         0.805246\n",
      "arrival_date_year                -0.306001\n",
      "stays_in_weekend_nights          -0.973501\n",
      "stays_in_week_nights             -0.305724\n",
      "adults                            0.193586\n",
      "children                         -0.304531\n",
      "babies                           -0.098787\n",
      "previous_cancellations           -0.084928\n",
      "previous_bookings_not_canceled   -0.105581\n",
      "booking_changes                  -0.371058\n",
      "days_in_waiting_list             -0.074710\n",
      "adr                               2.505037\n",
      "required_car_parking_spaces      -0.300011\n",
      "total_of_special_requests         0.362825\n",
      "Name: 47991, dtype: float64\n",
      "-------------------------\n",
      "True label: 1, Predicted label: 0\n",
      "Features:\n",
      "lead_time                        -0.428584\n",
      "arrival_date_year                -0.306001\n",
      "stays_in_weekend_nights          -0.973501\n",
      "stays_in_week_nights              0.178215\n",
      "adults                            0.193586\n",
      "children                         -0.304531\n",
      "babies                           -0.098787\n",
      "previous_cancellations           -0.084928\n",
      "previous_bookings_not_canceled   -0.105581\n",
      "booking_changes                  -0.371058\n",
      "days_in_waiting_list             -0.074710\n",
      "adr                              -0.327822\n",
      "required_car_parking_spaces      -0.300011\n",
      "total_of_special_requests        -0.840621\n",
      "Name: 53457, dtype: float64\n",
      "-------------------------\n",
      "True label: 1, Predicted label: 0\n",
      "Features:\n",
      "lead_time                         2.702550\n",
      "arrival_date_year                 1.152019\n",
      "stays_in_weekend_nights           0.958626\n",
      "stays_in_week_nights              1.146094\n",
      "adults                           -1.370323\n",
      "children                         -0.304531\n",
      "babies                           -0.098787\n",
      "previous_cancellations           -0.084928\n",
      "previous_bookings_not_canceled   -0.105581\n",
      "booking_changes                   0.992149\n",
      "days_in_waiting_list             -0.074710\n",
      "adr                              -0.869910\n",
      "required_car_parking_spaces      -0.300011\n",
      "total_of_special_requests        -0.840621\n",
      "Name: 36342, dtype: float64\n",
      "-------------------------\n"
     ]
    }
   ],
   "source": [
    "misclassified_idx_lr = np.where(y_test != y_pred)[0]\n",
    "\n",
    "for idx in misclassified_idx_lr[:5]:\n",
    "    print(f\"True label: {y_test.iloc[idx]}, Predicted label: {y_pred[idx]}\")\n",
    "    print(\"Features:\")\n",
    "    print(X_test.iloc[idx])\n",
    "    print(\"-------------------------\")"
   ]
  },
  {
   "cell_type": "markdown",
   "id": "a40f60e2-16ff-4966-b361-e523edfcd783",
   "metadata": {
    "id": "a40f60e2-16ff-4966-b361-e523edfcd783"
   },
   "source": [
    "  "
   ]
  },
  {
   "cell_type": "markdown",
   "id": "8a23042c-dbae-492a-a874-3c72ed15ed58",
   "metadata": {
    "id": "8a23042c-dbae-492a-a874-3c72ed15ed58"
   },
   "source": [
    "  "
   ]
  },
  {
   "cell_type": "markdown",
   "id": "ed05f82d-6807-4686-a2a0-f598a2d1b716",
   "metadata": {
    "id": "ed05f82d-6807-4686-a2a0-f598a2d1b716"
   },
   "source": [
    "  "
   ]
  },
  {
   "cell_type": "markdown",
   "id": "570ef602-6404-45db-9edd-44536f37b02e",
   "metadata": {
    "id": "570ef602-6404-45db-9edd-44536f37b02e",
    "tags": []
   },
   "source": [
    "<h3>Random Forest</h3>"
   ]
  },
  {
   "cell_type": "markdown",
   "id": "422c586d-d967-4311-8bca-33a7d04cd3f2",
   "metadata": {
    "id": "422c586d-d967-4311-8bca-33a7d04cd3f2",
    "tags": []
   },
   "source": [
    "<h4>Confusion Matrix</h4>"
   ]
  },
  {
   "cell_type": "code",
   "execution_count": null,
   "id": "1f614e16-5751-44da-bf82-2f03bcbd606c",
   "metadata": {
    "id": "1f614e16-5751-44da-bf82-2f03bcbd606c"
   },
   "outputs": [],
   "source": [
    "conf_matrix_rf = confusion_matrix(y_test, y_pred_rf)\n",
    "print(\"Confusion Matrix:\")\n",
    "print(conf_matrix_rf)\n",
    "\n",
    "disp_rf = ConfusionMatrixDisplay(confusion_matrix=conf_matrix_rf, display_labels=['Class 0', 'Class 1'])\n",
    "disp_rf.plot(cmap='Blues', values_format='d')\n",
    "plt.xlabel('Predicted')\n",
    "plt.ylabel('True')\n",
    "plt.title('Confusion Matrix')\n",
    "plt.show()"
   ]
  },
  {
   "cell_type": "markdown",
   "id": "585b5c30-ddcb-4b98-9fa1-b8e27179e74a",
   "metadata": {
    "id": "585b5c30-ddcb-4b98-9fa1-b8e27179e74a",
    "tags": []
   },
   "source": [
    "<h4>Error Types</h4>"
   ]
  },
  {
   "cell_type": "code",
   "execution_count": null,
   "id": "d6373b6c-869c-41a0-a6a5-09df1df07835",
   "metadata": {
    "id": "d6373b6c-869c-41a0-a6a5-09df1df07835",
    "outputId": "32a2291d-37d7-451f-c837-88314622fa5f"
   },
   "outputs": [
    {
     "name": "stdout",
     "output_type": "stream",
     "text": [
      "\n",
      "False Positives: 1100\n",
      "False Negatives: 2161\n"
     ]
    }
   ],
   "source": [
    "false_positives = conf_matrix_rf[0][1]\n",
    "false_negatives = conf_matrix_rf[1][0]\n",
    "print(\"\\nFalse Positives:\", false_positives)\n",
    "print(\"False Negatives:\", false_negatives)"
   ]
  },
  {
   "cell_type": "markdown",
   "id": "403be946-268a-4d34-9925-f96953621d5e",
   "metadata": {
    "id": "403be946-268a-4d34-9925-f96953621d5e",
    "tags": []
   },
   "source": [
    "<h4>Misclassified Samples</h4>"
   ]
  },
  {
   "cell_type": "code",
   "execution_count": null,
   "id": "cd949431-f713-4875-a2c8-2835b75d123b",
   "metadata": {
    "id": "cd949431-f713-4875-a2c8-2835b75d123b",
    "outputId": "4085ff8b-7c48-4b57-9cca-3ffe5f4501d2"
   },
   "outputs": [
    {
     "name": "stdout",
     "output_type": "stream",
     "text": [
      "True label: 1, Predicted label: 0\n",
      "Features:\n",
      "lead_time                        -0.091027\n",
      "arrival_date_year                 1.152019\n",
      "stays_in_weekend_nights          -0.973501\n",
      "stays_in_week_nights             -0.305724\n",
      "adults                           -1.370323\n",
      "children                         -0.304531\n",
      "babies                           -0.098787\n",
      "previous_cancellations           -0.084928\n",
      "previous_bookings_not_canceled   -0.105581\n",
      "booking_changes                  -0.371058\n",
      "days_in_waiting_list             -0.074710\n",
      "adr                               0.673784\n",
      "required_car_parking_spaces      -0.300011\n",
      "total_of_special_requests        -0.840621\n",
      "Name: 34532, dtype: float64\n",
      "-------------------------\n",
      "True label: 0, Predicted label: 1\n",
      "Features:\n",
      "lead_time                         1.131163\n",
      "arrival_date_year                 1.152019\n",
      "stays_in_weekend_nights          -0.973501\n",
      "stays_in_week_nights              0.662154\n",
      "adults                            0.193586\n",
      "children                         -0.304531\n",
      "babies                           -0.098787\n",
      "previous_cancellations           -0.084928\n",
      "previous_bookings_not_canceled   -0.105581\n",
      "booking_changes                  -0.371058\n",
      "days_in_waiting_list             -0.074710\n",
      "adr                               0.274757\n",
      "required_car_parking_spaces      -0.300011\n",
      "total_of_special_requests        -0.840621\n",
      "Name: 61086, dtype: float64\n",
      "-------------------------\n",
      "True label: 1, Predicted label: 0\n",
      "Features:\n",
      "lead_time                        -0.638103\n",
      "arrival_date_year                -0.306001\n",
      "stays_in_weekend_nights           0.958626\n",
      "stays_in_week_nights             -0.305724\n",
      "adults                            0.193586\n",
      "children                         -0.304531\n",
      "babies                           -0.098787\n",
      "previous_cancellations           -0.084928\n",
      "previous_bookings_not_canceled   -0.105581\n",
      "booking_changes                  -0.371058\n",
      "days_in_waiting_list             -0.074710\n",
      "adr                              -0.171657\n",
      "required_car_parking_spaces      -0.300011\n",
      "total_of_special_requests        -0.840621\n",
      "Name: 40523, dtype: float64\n",
      "-------------------------\n",
      "True label: 1, Predicted label: 0\n",
      "Features:\n",
      "lead_time                         2.702550\n",
      "arrival_date_year                 1.152019\n",
      "stays_in_weekend_nights           0.958626\n",
      "stays_in_week_nights              1.146094\n",
      "adults                           -1.370323\n",
      "children                         -0.304531\n",
      "babies                           -0.098787\n",
      "previous_cancellations           -0.084928\n",
      "previous_bookings_not_canceled   -0.105581\n",
      "booking_changes                   0.992149\n",
      "days_in_waiting_list             -0.074710\n",
      "adr                              -0.869910\n",
      "required_car_parking_spaces      -0.300011\n",
      "total_of_special_requests        -0.840621\n",
      "Name: 36342, dtype: float64\n",
      "-------------------------\n",
      "True label: 1, Predicted label: 0\n",
      "Features:\n",
      "lead_time                        -0.591543\n",
      "arrival_date_year                 1.152019\n",
      "stays_in_weekend_nights          -0.007438\n",
      "stays_in_week_nights              0.662154\n",
      "adults                            0.193586\n",
      "children                         -0.304531\n",
      "babies                           -0.098787\n",
      "previous_cancellations           -0.084928\n",
      "previous_bookings_not_canceled   -0.105581\n",
      "booking_changes                  -0.371058\n",
      "days_in_waiting_list             -0.074710\n",
      "adr                               0.601985\n",
      "required_car_parking_spaces      -0.300011\n",
      "total_of_special_requests         0.362825\n",
      "Name: 38788, dtype: float64\n",
      "-------------------------\n"
     ]
    }
   ],
   "source": [
    "misclassified_idx_rf = [idx for idx, (true, pred) in enumerate(zip(y_test, y_pred_rf)) if true != pred]\n",
    "\n",
    "for idx in misclassified_idx_rf[:5]:\n",
    "    print(f\"True label: {y_test.iloc[idx]}, Predicted label: {y_pred_rf[idx]}\")\n",
    "    print(\"Features:\")\n",
    "    print(X_test.iloc[idx])\n",
    "    print(\"-------------------------\")"
   ]
  },
  {
   "cell_type": "markdown",
   "id": "fcf11c29-b25a-41c4-becf-2846a0b73369",
   "metadata": {
    "id": "fcf11c29-b25a-41c4-becf-2846a0b73369"
   },
   "source": [
    "    "
   ]
  },
  {
   "cell_type": "markdown",
   "id": "51a589fc-a0ed-48ed-9123-e0311deb033d",
   "metadata": {
    "id": "51a589fc-a0ed-48ed-9123-e0311deb033d"
   },
   "source": [
    "  "
   ]
  },
  {
   "cell_type": "markdown",
   "id": "f32b0fc8-201d-497f-9907-5474d56f55e1",
   "metadata": {
    "id": "f32b0fc8-201d-497f-9907-5474d56f55e1"
   },
   "source": [
    "   "
   ]
  },
  {
   "cell_type": "markdown",
   "id": "91dce8cd-f2ad-4422-a0b3-4a1076845aea",
   "metadata": {
    "id": "91dce8cd-f2ad-4422-a0b3-4a1076845aea",
    "tags": []
   },
   "source": [
    "<h3>XGB</h3>"
   ]
  },
  {
   "cell_type": "markdown",
   "id": "c0eb37f4-ec36-48be-9240-8ba2e99dd397",
   "metadata": {
    "id": "c0eb37f4-ec36-48be-9240-8ba2e99dd397",
    "tags": []
   },
   "source": [
    "<h4>Confusion Matrix</h4>"
   ]
  },
  {
   "cell_type": "code",
   "execution_count": null,
   "id": "8654baa0-f6b0-4948-a9db-9b05c685bd7b",
   "metadata": {
    "id": "8654baa0-f6b0-4948-a9db-9b05c685bd7b"
   },
   "outputs": [],
   "source": [
    "conf_matrix_xgb = confusion_matrix(y_test_int, y_pred_xgb_int)\n",
    "print(\"Confusion Matrix:\")\n",
    "print(conf_matrix_xgb)\n",
    "\n",
    "disp_xgb = ConfusionMatrixDisplay(confusion_matrix=conf_matrix_xgb, display_labels=['Class 0', 'Class 1'])\n",
    "disp_xgb.plot(cmap='Blues', values_format='d')\n",
    "plt.xlabel('Predicted')\n",
    "plt.ylabel('True')\n",
    "plt.title('Confusion Matrix')\n",
    "plt.show()"
   ]
  },
  {
   "cell_type": "markdown",
   "id": "cd0aebb4-27f9-48bf-a098-ffda3f6c95d6",
   "metadata": {
    "id": "cd0aebb4-27f9-48bf-a098-ffda3f6c95d6",
    "tags": []
   },
   "source": [
    "<h4>Error Types</h4>"
   ]
  },
  {
   "cell_type": "code",
   "execution_count": null,
   "id": "a5e7ed76-4273-4d65-a653-e56337408e0d",
   "metadata": {
    "id": "a5e7ed76-4273-4d65-a653-e56337408e0d",
    "outputId": "d6fab8cf-7830-492d-d077-7bd890bf5c90"
   },
   "outputs": [
    {
     "name": "stdout",
     "output_type": "stream",
     "text": [
      "\n",
      "False Positives: 783\n",
      "False Negatives: 2244\n"
     ]
    }
   ],
   "source": [
    "false_positives = conf_matrix_xgb[0][1]\n",
    "false_negatives = conf_matrix_xgb[1][0]\n",
    "print(\"\\nFalse Positives:\", false_positives)\n",
    "print(\"False Negatives:\", false_negatives)"
   ]
  },
  {
   "cell_type": "markdown",
   "id": "d4b00804-a3a7-46f5-b7e9-02711a63bf9b",
   "metadata": {
    "id": "d4b00804-a3a7-46f5-b7e9-02711a63bf9b",
    "tags": []
   },
   "source": [
    "<h4>Misclassified Samples</h4>"
   ]
  },
  {
   "cell_type": "code",
   "execution_count": null,
   "id": "7439bcf7-85c0-4b94-a61b-40b0ed0e1b0d",
   "metadata": {
    "id": "7439bcf7-85c0-4b94-a61b-40b0ed0e1b0d",
    "outputId": "eaeb8f88-2f72-48ba-9911-30344c5a49d3",
    "tags": []
   },
   "outputs": [
    {
     "name": "stdout",
     "output_type": "stream",
     "text": [
      "True label: 0, Predicted label: 0\n",
      "Features:\n",
      "lead_time                        -0.905820\n",
      "arrival_date_year                 1.152019\n",
      "stays_in_weekend_nights          -0.973501\n",
      "stays_in_week_nights              0.178215\n",
      "adults                            0.193586\n",
      "children                         -0.304531\n",
      "babies                           -0.098787\n",
      "previous_cancellations           -0.084928\n",
      "previous_bookings_not_canceled   -0.105581\n",
      "booking_changes                  -0.371058\n",
      "days_in_waiting_list             -0.074710\n",
      "adr                              -0.375030\n",
      "required_car_parking_spaces      -0.300011\n",
      "total_of_special_requests         0.362825\n",
      "Name: 50432, dtype: float64\n",
      "-------------------------\n",
      "True label: 1, Predicted label: 1\n",
      "Features:\n",
      "lead_time                        -0.091027\n",
      "arrival_date_year                 1.152019\n",
      "stays_in_weekend_nights          -0.973501\n",
      "stays_in_week_nights             -0.305724\n",
      "adults                           -1.370323\n",
      "children                         -0.304531\n",
      "babies                           -0.098787\n",
      "previous_cancellations           -0.084928\n",
      "previous_bookings_not_canceled   -0.105581\n",
      "booking_changes                  -0.371058\n",
      "days_in_waiting_list             -0.074710\n",
      "adr                               0.673784\n",
      "required_car_parking_spaces      -0.300011\n",
      "total_of_special_requests        -0.840621\n",
      "Name: 34532, dtype: float64\n",
      "-------------------------\n",
      "True label: 0, Predicted label: 0\n",
      "Features:\n",
      "lead_time                        -0.684662\n",
      "arrival_date_year                -0.306001\n",
      "stays_in_weekend_nights          -0.973501\n",
      "stays_in_week_nights             -0.305724\n",
      "adults                            0.193586\n",
      "children                         -0.304531\n",
      "babies                           -0.098787\n",
      "previous_cancellations           -0.084928\n",
      "previous_bookings_not_canceled   -0.105581\n",
      "booking_changes                   2.355356\n",
      "days_in_waiting_list             -0.074710\n",
      "adr                              -1.282758\n",
      "required_car_parking_spaces      -0.300011\n",
      "total_of_special_requests         0.362825\n",
      "Name: 69614, dtype: float64\n",
      "-------------------------\n",
      "True label: 0, Predicted label: 1\n",
      "Features:\n",
      "lead_time                         1.131163\n",
      "arrival_date_year                 1.152019\n",
      "stays_in_weekend_nights          -0.973501\n",
      "stays_in_week_nights              0.662154\n",
      "adults                            0.193586\n",
      "children                         -0.304531\n",
      "babies                           -0.098787\n",
      "previous_cancellations           -0.084928\n",
      "previous_bookings_not_canceled   -0.105581\n",
      "booking_changes                  -0.371058\n",
      "days_in_waiting_list             -0.074710\n",
      "adr                               0.274757\n",
      "required_car_parking_spaces      -0.300011\n",
      "total_of_special_requests        -0.840621\n",
      "Name: 61086, dtype: float64\n",
      "-------------------------\n",
      "True label: 0, Predicted label: 0\n",
      "Features:\n",
      "lead_time                        -0.312185\n",
      "arrival_date_year                 1.152019\n",
      "stays_in_weekend_nights          -0.007438\n",
      "stays_in_week_nights              0.178215\n",
      "adults                            0.193586\n",
      "children                         -0.304531\n",
      "babies                           -0.098787\n",
      "previous_cancellations           -0.084928\n",
      "previous_bookings_not_canceled   -0.105581\n",
      "booking_changes                  -0.371058\n",
      "days_in_waiting_list             -0.074710\n",
      "adr                              -0.644997\n",
      "required_car_parking_spaces       3.226441\n",
      "total_of_special_requests         0.362825\n",
      "Name: 31436, dtype: float64\n",
      "-------------------------\n"
     ]
    }
   ],
   "source": [
    "misclassified_idx_xgb = [idx for idx, (true, pred) in enumerate(zip(y_test, y_pred_xgb)) if true != pred]\n",
    "\n",
    "for idx in misclassified_idx_xgb[:5]:\n",
    "    print(f\"True label: {y_test.iloc[idx]}, Predicted label: {y_pred_xgb[idx]}\")\n",
    "    print(\"Features:\")\n",
    "    print(X_test.iloc[idx])\n",
    "    print(\"-------------------------\")"
   ]
  },
  {
   "cell_type": "markdown",
   "id": "315845bb-3415-4292-81aa-d7a62d059288",
   "metadata": {
    "id": "315845bb-3415-4292-81aa-d7a62d059288"
   },
   "source": []
  },
  {
   "cell_type": "markdown",
   "id": "00ff2825-44e4-471c-9db6-eec3d488b7f6",
   "metadata": {
    "id": "00ff2825-44e4-471c-9db6-eec3d488b7f6",
    "tags": []
   },
   "source": [
    "<h3>t-SNE</h3>"
   ]
  },
  {
   "cell_type": "code",
   "execution_count": null,
   "id": "24f1628e-0bfb-4876-be9d-7a937a84cdc6",
   "metadata": {
    "id": "24f1628e-0bfb-4876-be9d-7a937a84cdc6",
    "tags": []
   },
   "outputs": [],
   "source": [
    "from sklearn.manifold import TSNE\n",
    "\n",
    "tsne = TSNE(n_components=2, random_state=42)\n",
    "X_test_tsne = tsne.fit_transform(X_test)\n",
    "\n",
    "plt.figure(figsize=(10, 8))\n",
    "plt.scatter(X_test_tsne[y_test=='0', 0], X_test_tsne[y_test=='0', 1], c='blue', label='True: 0')\n",
    "plt.scatter(X_test_tsne[y_test=='1', 0], X_test_tsne[y_test=='1', 1], c='red', label='True: 1')\n",
    "plt.scatter(X_test_tsne[y_pred=='0', 0], X_test_tsne[y_pred=='0', 1], c='lightblue', marker='x', label='Predicted: 0')\n",
    "plt.scatter(X_test_tsne[y_pred=='1', 0], X_test_tsne[y_pred=='1', 1], c='pink', marker='x', label='Predicted: 1')\n",
    "plt.legend()\n",
    "plt.show()"
   ]
  },
  {
   "cell_type": "markdown",
   "id": "2f2c605a-0526-4a1b-ab95-b60db13e339a",
   "metadata": {
    "id": "2f2c605a-0526-4a1b-ab95-b60db13e339a",
    "tags": []
   },
   "source": [
    "<h4>Perplexity = 10</h4>"
   ]
  },
  {
   "cell_type": "code",
   "execution_count": null,
   "id": "dd1c6467-1e4e-4e1f-b06a-d10ff14714de",
   "metadata": {
    "id": "dd1c6467-1e4e-4e1f-b06a-d10ff14714de",
    "tags": []
   },
   "outputs": [],
   "source": [
    "tsne = TSNE(n_components=2, random_state=42, perplexity=10)\n",
    "X_test_tsne = tsne.fit_transform(X_test)\n",
    "\n",
    "plt.figure(figsize=(15, 6))\n",
    "\n",
    "plt.subplot(1, 2, 1)\n",
    "plt.scatter(X_test_tsne[y_test=='0', 0], X_test_tsne[y_test=='0', 1], c='blue', marker='+', label='True: 0')\n",
    "plt.scatter(X_test_tsne[y_test=='1', 0], X_test_tsne[y_test=='1', 1], c='red', marker='x', label='True: 1')\n",
    "#plt.title('True Labels')\n",
    "plt.legend()\n",
    "\n",
    "#plt.subplot(1, 2, 2)\n",
    "#plt.scatter(X_test_tsne[y_pred=='0', 0], X_test_tsne[y_pred=='0', 1], c='lightblue', marker='+', label='Predicted: 0')\n",
    "#plt.scatter(X_test_tsne[y_pred=='1', 0], X_test_tsne[y_pred=='1', 1], c='pink', marker='x', label='Predicted: 1')\n",
    "#plt.title('Predicted Labels')\n",
    "\n",
    "plt.show()"
   ]
  },
  {
   "cell_type": "markdown",
   "id": "88555dbb-fd2c-4717-be26-55bc802e0d31",
   "metadata": {
    "id": "88555dbb-fd2c-4717-be26-55bc802e0d31",
    "tags": []
   },
   "source": [
    "<h4>Perplexity = 50</h4>"
   ]
  },
  {
   "cell_type": "code",
   "execution_count": null,
   "id": "7b25ba5d-1a68-4a1d-b14f-17da39c93fbb",
   "metadata": {
    "id": "7b25ba5d-1a68-4a1d-b14f-17da39c93fbb",
    "tags": []
   },
   "outputs": [],
   "source": [
    "tsne1 = TSNE(n_components=2, random_state=42, perplexity=50)\n",
    "X_test_tsne1 = tsne1.fit_transform(X_test)\n",
    "\n",
    "plt.figure(figsize=(15, 6))\n",
    "\n",
    "plt.subplot(1, 2, 1)\n",
    "plt.scatter(X_test_tsne1[y_test=='0', 0], X_test_tsne1[y_test=='0', 1], c='blue', marker='+', label='True: 0')\n",
    "plt.scatter(X_test_tsne1[y_test=='1', 0], X_test_tsne1[y_test=='1', 1], c='red', marker='x', label='True: 1')\n",
    "#plt.title('True Labels')\n",
    "plt.legend()\n",
    "\n",
    "#plt.subplot(1, 2, 2)\n",
    "#plt.scatter(X_test_tsne1[y_pred=='0', 0], X_test_tsne1[y_pred=='0', 1], c='lightblue', marker='+', label='Predicted: 0')\n",
    "#plt.scatter(X_test_tsne1[y_pred=='1', 0], X_test_tsne1[y_pred=='1', 1], c='pink', marker='x', label='Predicted: 1')\n",
    "#plt.title('Predicted Labels')\n",
    "\n",
    "plt.show()"
   ]
  },
  {
   "cell_type": "markdown",
   "id": "38fbb1f2-7cca-4962-906f-03576b40f245",
   "metadata": {
    "id": "38fbb1f2-7cca-4962-906f-03576b40f245",
    "tags": []
   },
   "source": [
    "<h4>Perplexity = 100</h4>"
   ]
  },
  {
   "cell_type": "code",
   "execution_count": null,
   "id": "3c6f599f-0447-41ae-b913-f8e8b71e2b64",
   "metadata": {
    "id": "3c6f599f-0447-41ae-b913-f8e8b71e2b64",
    "tags": []
   },
   "outputs": [],
   "source": [
    "tsne2 = TSNE(n_components=2, random_state=42, perplexity=100)\n",
    "X_test_tsne2 = tsne2.fit_transform(X_test)\n",
    "\n",
    "plt.figure(figsize=(15, 6))\n",
    "\n",
    "plt.subplot(1, 2, 1)\n",
    "plt.scatter(X_test_tsne2[y_test=='0', 0], X_test_tsne2[y_test=='0', 1], c='blue', marker='+', label='True: 0')\n",
    "plt.scatter(X_test_tsne2[y_test=='1', 0], X_test_tsne2[y_test=='1', 1], c='red', marker='x', label='True: 1')\n",
    "#plt.title('True Labels')\n",
    "plt.legend()\n",
    "\n",
    "#plt.subplot(1, 2, 2)\n",
    "#plt.scatter(X_test_tsne2[y_pred=='0', 0], X_test_tsne2[y_pred=='0', 1], c='lightblue', marker='+', label='Predicted: 0')\n",
    "#plt.scatter(X_test_tsne2[y_pred=='1', 0], X_test_tsne2[y_pred=='1', 1], c='pink', marker='x', label='Predicted: 1')\n",
    "#plt.title('Predicted Labels')\n",
    "#plt.legend()\n",
    "\n",
    "plt.show()"
   ]
  },
  {
   "cell_type": "markdown",
   "id": "dff5586d-fb4e-49f0-87ef-2cf0d6285b6f",
   "metadata": {
    "id": "dff5586d-fb4e-49f0-87ef-2cf0d6285b6f",
    "tags": []
   },
   "source": [
    "<h4>Perplexity = 150</h4>"
   ]
  },
  {
   "cell_type": "code",
   "execution_count": null,
   "id": "e505b2a9-1d55-4335-98a8-847eacaeb0ab",
   "metadata": {
    "id": "e505b2a9-1d55-4335-98a8-847eacaeb0ab",
    "tags": []
   },
   "outputs": [],
   "source": [
    "tsne3 = TSNE(n_components=2, random_state=42, perplexity=150)\n",
    "X_test_tsne3 = tsne3.fit_transform(X_test)\n",
    "\n",
    "plt.figure(figsize=(15, 6))\n",
    "\n",
    "plt.subplot(1, 2, 1)\n",
    "plt.scatter(X_test_tsne3[y_test=='0', 0], X_test_tsne3[y_test=='0', 1], c='blue', marker='+', label='True: 0')\n",
    "plt.scatter(X_test_tsne3[y_test=='1', 0], X_test_tsne3[y_test=='1', 1], c='red', marker='x', label='True: 1')\n",
    "#plt.title('True Labels')\n",
    "plt.legend()\n",
    "\n",
    "#plt.subplot(1, 2, 2)\n",
    "#plt.scatter(X_test_tsne3[y_pred=='0', 0], X_test_tsne3[y_pred=='0', 1], c='lightblue', marker='+', label='Predicted: 0')\n",
    "#plt.scatter(X_test_tsne3[y_pred=='1', 0], X_test_tsne3[y_pred=='1', 1], c='pink', marker='x', label='Predicted: 1')\n",
    "#plt.title('Predicted Labels')\n",
    "#plt.legend()\n",
    "\n",
    "plt.show()"
   ]
  },
  {
   "cell_type": "code",
   "execution_count": null,
   "id": "f04ea4a9-dc45-487e-a9fe-0da94e26f06c",
   "metadata": {
    "id": "f04ea4a9-dc45-487e-a9fe-0da94e26f06c"
   },
   "outputs": [],
   "source": []
  },
  {
   "cell_type": "code",
   "execution_count": null,
   "id": "0621bb49-444f-4d2d-9b56-49cd5965074d",
   "metadata": {
    "id": "0621bb49-444f-4d2d-9b56-49cd5965074d",
    "tags": []
   },
   "outputs": [],
   "source": [
    "import pandas as pd\n",
    "\n",
    "# Select only numeric columns\n",
    "numeric_df = df.select_dtypes(include=['number'])\n",
    "\n",
    "# Skewness\n",
    "skewness = numeric_df.skew()\n",
    "\n",
    "# Kurtosis\n",
    "kurtosis = numeric_df.kurtosis()\n",
    "\n",
    "# Combine skewness and kurtosis into one DataFrame\n",
    "skew_kurt_df = pd.DataFrame({'Skewness': skewness, 'Kurtosis': kurtosis})\n",
    "\n",
    "print(skew_kurt_df)\n"
   ]
  },
  {
   "cell_type": "code",
   "execution_count": null,
   "id": "6ae8e81b-1e3e-4163-ac3e-f8caea0aa3a8",
   "metadata": {
    "id": "6ae8e81b-1e3e-4163-ac3e-f8caea0aa3a8",
    "tags": []
   },
   "outputs": [],
   "source": [
    "from scipy.stats import skew\n",
    "from scipy.stats import kurtosis\n",
    "\n",
    "numeric_columns = df.select_dtypes(include=[np.number])\n",
    "print(skew(numeric_columns, axis=0, bias=True))\n",
    "print(kurtosis(numeric_columns, axis=0, bias=True))"
   ]
  },
  {
   "cell_type": "code",
   "execution_count": null,
   "id": "d237d36a-43d4-42b5-8f12-87a537de1ccd",
   "metadata": {
    "id": "d237d36a-43d4-42b5-8f12-87a537de1ccd",
    "tags": []
   },
   "outputs": [],
   "source": [
    " import warnings\n",
    "import numpy as np\n",
    "from scipy.stats import skew, kurtosis\n",
    "import seaborn as sns\n",
    "import matplotlib.pyplot as plt\n",
    "\n",
    "# Suppress the warning\n",
    "warnings.filterwarnings(\"ignore\", message=\"invalid value encountered in true_divide\")\n",
    "\n",
    "# Convert infinite values to NaN\n",
    "numeric_columns.replace([np.inf, -np.inf], np.nan, inplace=True)\n",
    "\n",
    "# Calculate skewness and kurtosis\n",
    "skewness = skew(numeric_columns, axis=0, bias=True)\n",
    "kurt = kurtosis(numeric_columns, axis=0, bias=True)\n",
    "\n",
    "# Remove NaN values\n",
    "skewness = skewness[~np.isnan(skewness)]\n",
    "kurt = kurt[~np.isnan(kurt)]\n",
    "\n",
    "# Calculate mean, median, and mode\n",
    "mean_skew = np.mean(skewness)\n",
    "median_skew = np.median(skewness)\n",
    "mode_skew = mode(skewness)[0]\n",
    "\n",
    "mean_kurt = np.mean(kurt)\n",
    "median_kurt = np.median(kurt)\n",
    "mode_kurt = mode(kurt)[0]\n",
    "\n",
    "# KDE plot for skewness\n",
    "plt.figure(figsize=(10, 6))\n",
    "sns.kdeplot(skewness, color='blue', label='Skewness')\n",
    "plt.axvline(mean_skew, color='green', linestyle='--', label='Mean')\n",
    "plt.axvline(median_skew, color='orange', linestyle='--', label='Median')\n",
    "plt.axvline(mode_skew, color='red', linestyle='--', label='Mode')\n",
    "plt.legend()\n",
    "plt.show()\n",
    "\n",
    "# KDE plot for kurtosis\n",
    "plt.figure(figsize=(10, 6))\n",
    "sns.kdeplot(kurt, color='red', label='Kurtosis')\n",
    "plt.axvline(mean_kurt, color='green', linestyle='--', label='Mean')\n",
    "plt.axvline(median_kurt, color='orange', linestyle='--', label='Median')\n",
    "plt.axvline(mode_kurt, color='blue', linestyle='--', label='Mode')\n",
    "plt.legend()\n",
    "plt.show()\n"
   ]
  }
 ],
 "metadata": {
  "colab": {
   "provenance": []
  },
  "kernelspec": {
   "display_name": "Python 3 (ipykernel)",
   "language": "python",
   "name": "python3"
  },
  "language_info": {
   "codemirror_mode": {
    "name": "ipython",
    "version": 3
   },
   "file_extension": ".py",
   "mimetype": "text/x-python",
   "name": "python",
   "nbconvert_exporter": "python",
   "pygments_lexer": "ipython3",
   "version": "3.11.5"
  }
 },
 "nbformat": 4,
 "nbformat_minor": 5
}
